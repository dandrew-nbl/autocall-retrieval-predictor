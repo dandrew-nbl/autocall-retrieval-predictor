{
 "cells": [
  {
   "cell_type": "code",
   "execution_count": 1,
   "id": "88de5c26-22d7-42ec-b7b7-2ce7e908c871",
   "metadata": {},
   "outputs": [],
   "source": [
    "import pandas as pd\n",
    "import sys"
   ]
  },
  {
   "cell_type": "code",
   "execution_count": 2,
   "id": "2cc60c44-09cd-4405-8e69-0e5e7bc90f54",
   "metadata": {},
   "outputs": [],
   "source": [
    "sys.path.append(\"/home/jovyan/shared-packages/app\")\n",
    "import factory_systems_db_client"
   ]
  },
  {
   "cell_type": "code",
   "execution_count": 12,
   "id": "b2d819ec-d280-4237-a004-471bf20efc08",
   "metadata": {},
   "outputs": [],
   "source": [
    "flow_url = (\"https://prod-135.westus.logic.azure.com:443/workflows/4b0ce21e6aba47c784afad33b2ed3b65/triggers/manual/paths/invoke?api-version=2016-06-01&sp=%2Ftriggers%2Fmanual%2Frun&sv=1.0&sig=STJciI9cM2D_Vsj-2ZTAGHHmTMZf9v1EMpOLtHFyO2k\")\n",
    "db = factory_systems_db_client.FactorySystemsDB()"
   ]
  },
  {
   "cell_type": "code",
   "execution_count": 13,
   "id": "f5787b01-811b-4223-8d65-4803c97e5f1d",
   "metadata": {},
   "outputs": [
    {
     "name": "stderr",
     "output_type": "stream",
     "text": [
      "INFO:factory_systems_db_client:Executing query: {'operation': 'query', 'database': 'mis', 'query': 'SELECT top 1 * from lms_status', 'params': {}}\n"
     ]
    },
    {
     "data": {
      "text/plain": [
       "[{'LMS_HMI_Status': 0,\n",
       "  'LMS_WorkBench_Status': 0,\n",
       "  'LineNumber': 'Line1',\n",
       "  'MachineCenter': 'Packer_V1_L1_1',\n",
       "  'PlantName': 'HOU',\n",
       "  't_stamp': '2025-04-10T16:49:05'}]"
      ]
     },
     "execution_count": 13,
     "metadata": {},
     "output_type": "execute_result"
    }
   ],
   "source": [
    "db.query('SELECT top 1 * from lms_status')"
   ]
  },
  {
   "cell_type": "code",
   "execution_count": null,
   "id": "096ca419-ec57-4716-823f-c078eb4f5acb",
   "metadata": {},
   "outputs": [],
   "source": []
  }
 ],
 "metadata": {
  "kernelspec": {
   "display_name": "Python 3 (ipykernel)",
   "language": "python",
   "name": "python3"
  },
  "language_info": {
   "codemirror_mode": {
    "name": "ipython",
    "version": 3
   },
   "file_extension": ".py",
   "mimetype": "text/x-python",
   "name": "python",
   "nbconvert_exporter": "python",
   "pygments_lexer": "ipython3",
   "version": "3.11.6"
  }
 },
 "nbformat": 4,
 "nbformat_minor": 5
}
