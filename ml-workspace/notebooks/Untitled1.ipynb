{
 "cells": [
  {
   "cell_type": "code",
   "execution_count": 2,
   "id": "35ff23bc-7a33-4db1-ba76-de7c3bb8305b",
   "metadata": {},
   "outputs": [],
   "source": [
    "from factory_systems_db_client import FactorySystemsDB"
   ]
  },
  {
   "cell_type": "code",
   "execution_count": 3,
   "id": "04687799-09f6-4364-9599-3d9231143a34",
   "metadata": {},
   "outputs": [],
   "source": [
    "db = FactorySystemsDB()"
   ]
  },
  {
   "cell_type": "code",
   "execution_count": 13,
   "id": "4e25e68f-9412-4e3f-8096-4ced1e4abb81",
   "metadata": {},
   "outputs": [
    {
     "name": "stderr",
     "output_type": "stream",
     "text": [
      "INFO:factory_systems_db_client:Executing query: {'operation': 'query', 'database': 'factory', 'query': \"\\nSELECT top 1 * \\nFROM inventory.EBS_Item WHERE ORGANIZATION_CODE = 'ALA'\\n\\n\", 'params': {}}\n"
     ]
    },
    {
     "data": {
      "text/plain": [
       "[{'ATTRIBUTE14': 'GRV05L24PDM',\n",
       "  'ATTRIBUTE8': 'Water - Retail',\n",
       "  'Brand': 'Great Value',\n",
       "  'Business_Unit': 'Water - Retail',\n",
       "  'CREATION_DATE': '2022-10-10 08:07:23.0000000',\n",
       "  'DESCRIPTION': '05L.DM.GREATVALUE.24P.N.84.CH',\n",
       "  'INVENTORY_ITEM_ID': 927351.0,\n",
       "  'ITEM_TYPE': 'FG',\n",
       "  'LAST_UPDATE_DATE': '2024-12-11 13:01:40.0000000',\n",
       "  'ORGANIZATION_CODE': 'ALA',\n",
       "  'ORGANIZATION_ID': 4609.0,\n",
       "  'PRIMARY_UOM_CODE': 'C24',\n",
       "  'SEGMENT1': 'GRV05L24PDMN',\n",
       "  'Sales_Category': 'Core Water'}]"
      ]
     },
     "execution_count": 13,
     "metadata": {},
     "output_type": "execute_result"
    }
   ],
   "source": [
    "db.query(\n",
    "\"\"\"\n",
    "SELECT top 1 * \n",
    "FROM inventory.EBS_Item WHERE ORGANIZATION_CODE = 'ALA'\n",
    "\n",
    "\"\"\"    \n",
    ",database='factory'\n",
    "\n",
    ")"
   ]
  },
  {
   "cell_type": "code",
   "execution_count": null,
   "id": "6e32f663-5988-481f-9ec8-293b14a0db52",
   "metadata": {},
   "outputs": [],
   "source": []
  }
 ],
 "metadata": {
  "kernelspec": {
   "display_name": "Python 3 (ipykernel)",
   "language": "python",
   "name": "python3"
  },
  "language_info": {
   "codemirror_mode": {
    "name": "ipython",
    "version": 3
   },
   "file_extension": ".py",
   "mimetype": "text/x-python",
   "name": "python",
   "nbconvert_exporter": "python",
   "pygments_lexer": "ipython3",
   "version": "3.11.6"
  }
 },
 "nbformat": 4,
 "nbformat_minor": 5
}
