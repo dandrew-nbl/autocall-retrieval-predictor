{
 "cells": [
  {
   "cell_type": "code",
   "execution_count": null,
   "metadata": {},
   "outputs": [],
   "source": [
    "import pandas as pd\n",
    "import seaborn as sns\n",
    "import numpy as np\n",
    "from matplotlib import pyplot as plt"
   ]
  },
  {
   "cell_type": "code",
   "execution_count": null,
   "metadata": {},
   "outputs": [],
   "source": [
    "import pandas as pd\n",
    "import sqlalchemy as sa\n",
    "import os\n",
    "from dotenv import load_dotenv\n",
    "\n",
    "from sqlalchemy import create_engine, text\n",
    "import urllib.parse\n",
    "\n",
    "\n",
    "fs_server = os.getenv('FACTORY_SYSTEMS_DB_SERVER')\n",
    "fs_database = os.getenv('FACTORY_SYSTEMS_DB_NAME')\n",
    "fs_username = os.getenv('FACTORY_SYSTEMS_DB_USER')\n",
    "fs_password = os.getenv('FACTORY_SYSTEMS_DB_PASSWORD')\n",
    "\n",
    "se_server = os.getenv('SE_DB_SERVER')\n",
    "se_database = os.getenv('SE_DB_NAME')\n",
    "se_username = os.getenv('SE_DB_USER')\n",
    "se_password = os.getenv('SE_DB_PASSWORD')\n",
    "\n",
    "# Load environment variables\n",
    "load_dotenv()"
   ]
  },
  {
   "cell_type": "code",
   "execution_count": null,
   "metadata": {},
   "outputs": [],
   "source": [
    "# Create a connection string\n",
    "fs_params = urllib.parse.quote_plus(\n",
    "    f'DRIVER={{{os.getenv(\"DB_DRIVER\")}}};'\n",
    "    f'SERVER={fs_server};'\n",
    "    f'DATABASE={fs_database};'\n",
    "    f'UID={fs_username};'\n",
    "    f'PWD={fs_password}'\n",
    ")\n",
    "\n",
    "# Create a connection string\n",
    "se_params = urllib.parse.quote_plus(\n",
    "    f'DRIVER={{{os.getenv(\"DB_DRIVER\")}}};'\n",
    "    f'SERVER={se_server};'\n",
    "    f'DATABASE={se_database};'\n",
    "    f'UID={se_username};'\n",
    "    f'PWD={se_password}'\n",
    ")"
   ]
  },
  {
   "cell_type": "code",
   "execution_count": null,
   "metadata": {},
   "outputs": [],
   "source": [
    "#df_item_lookup = pd.read_csv(\"initial_files/csv_files/item_lookup.csv\", encoding='latin-1')\n",
    "#df_fetch_requests = pd.read_csv(\"initial_files/csv_files/lou_mes_retrieval_requests.csv\")\n",
    "#df_workbench_jobs = pd.read_csv(\"initial_files/csv_files/lou_workbench_jobs.csv\")"
   ]
  },
  {
   "cell_type": "code",
   "execution_count": null,
   "metadata": {},
   "outputs": [],
   "source": [
    "#df_item_lookup.dtypes\n",
    "#df_fetch_requests.dtypes\n",
    "#df_workbench_jobs.dtypes"
   ]
  },
  {
   "cell_type": "code",
   "execution_count": null,
   "metadata": {},
   "outputs": [],
   "source": [
    "# Create the SQLAlchemy engine (FS DB)\n",
    "engine = create_engine(f\"mssql+pyodbc:///?odbc_connect={fs_params}\")\n",
    "# Try to connect and execute a simple query\n",
    "with engine.connect() as connection:\n",
    "\n",
    "    # Write SQL Query here\n",
    "    query = text(\n",
    "                    \n",
    "\"\"\"\n",
    "SELECT DISTINCT\n",
    "SEGMENT1 as item\n",
    ",ITEM_TYPE as item_type\n",
    ",DESCRIPTION as description\n",
    "\n",
    "FROM Inventory.EBS_Item  \n",
    "\n",
    "\"\"\"\n",
    "                    )\n",
    "\n",
    "    result = connection.execute(query)\n",
    "    print(result)\n",
    "    df_item_lookup = pd.DataFrame(result.fetchall(), columns=result.keys())"
   ]
  },
  {
   "cell_type": "code",
   "execution_count": null,
   "metadata": {},
   "outputs": [],
   "source": [
    "# Create the SQLAlchemy engine (SE DB)\n",
    "engine = create_engine(f\"mssql+pyodbc:///?odbc_connect={se_params}\")\n",
    "# Try to connect and execute a simple query\n",
    "with engine.connect() as connection:\n",
    "\n",
    "    # Write SQL Query here\n",
    "    query = text(\n",
    "                    \n",
    "\"\"\"\n",
    "SELECT DISTINCT\n",
    "            [WHSE] AS ORG\n",
    "\t\t\t--,CONCAT(WHSE, RIGHT(TO_LOCATION,1)) AS Line\n",
    "      ,CASE\n",
    "        WHEN TO_LOCATION LIKE '%L1.HOFF.01%' AND WHSE = 'ALA' THEN 'ALA1'\n",
    "\t\tWHEN TO_LOCATION LIKE '%RAW.HNDOFF.01%' AND WHSE = 'ATL' THEN 'ATL1'\n",
    "\t\tWHEN TO_LOCATION LIKE '%RAW.HNDOFF.02%' AND WHSE = 'ATL' THEN 'ATL2'\n",
    "\t\tWHEN TO_LOCATION LIKE '%RAW.HNDOFF.03%' AND WHSE = 'ATL' THEN 'ATL3'\n",
    "\t\tWHEN TO_LOCATION LIKE '%L1.HOFF.01%' AND WHSE = 'BAK' THEN 'BAK1'\n",
    "\t\tWHEN TO_LOCATION LIKE '%L1.HOFF.02%' AND WHSE = 'BAK' THEN 'BAK1'\n",
    "\t\tWHEN TO_LOCATION LIKE '%L2.HOFF.01%' AND WHSE = 'BAK' THEN 'BAK2'\n",
    "\t\tWHEN TO_LOCATION LIKE '%L2.HOFF.02%' AND WHSE = 'BAK' THEN 'BAK2'\n",
    "\t\tWHEN TO_LOCATION LIKE '%L1.HOFF.01%' AND WHSE = 'BAY' THEN 'BAY1'\n",
    "\t\tWHEN TO_LOCATION LIKE '%L2.HOFF.02%' AND WHSE = 'BAY' THEN 'BAY2'\n",
    "\t\tWHEN TO_LOCATION LIKE '%RAW.HNDOFF.01%' AND WHSE = 'BLM' THEN 'BLM1'\n",
    "\t\tWHEN TO_LOCATION LIKE '%RAW.HNDOFF.02%' AND WHSE = 'BLM' THEN 'BLM2'\n",
    "\t\tWHEN TO_LOCATION LIKE '%RAW.HNDOFF.05%' AND WHSE = 'BLM' THEN 'BLM3'\n",
    "\t\tWHEN TO_LOCATION LIKE '%L1.HNDOFF.01%' AND WHSE = 'CAR' THEN 'CAR1'\n",
    "\t\tWHEN TO_LOCATION LIKE '%L1.HNDOFF.02%' AND WHSE = 'CAR' THEN 'CAR1'\n",
    "\t\tWHEN TO_LOCATION LIKE '%L2.HNDOFF.01%' AND WHSE = 'CAR' THEN 'CAR2'\n",
    "\t\tWHEN TO_LOCATION LIKE '%L2.HNDOFF.02%' AND WHSE = 'CAR' THEN 'CAR2'\n",
    "\t\tWHEN TO_LOCATION LIKE '%L3.HNDOFF.01%' AND WHSE = 'CAR' THEN 'CAR3'\n",
    "\t\tWHEN TO_LOCATION LIKE '%L3.HNDOFF.02%' AND WHSE = 'CAR' THEN 'CAR3'\n",
    "\t\tWHEN TO_LOCATION LIKE '%L4.HNDOFF.01%' AND WHSE = 'CAR' THEN 'CAR4'\n",
    "\t\tWHEN TO_LOCATION LIKE '%L4.HNDOFF.02%' AND WHSE = 'CAR' THEN 'CAR4'\n",
    "\t\tWHEN TO_LOCATION LIKE '%L5.HNDOFF.01%' AND WHSE = 'CAR' THEN 'CAR5'\n",
    "\t\tWHEN TO_LOCATION LIKE '%L5.HNDOFF.02%' AND WHSE = 'CAR' THEN 'CAR5'\n",
    "\t\tWHEN TO_LOCATION LIKE '%L1.HOFF.01%' AND WHSE = 'DET' THEN 'DET1'\n",
    "\t\tWHEN TO_LOCATION LIKE '%L2.HOFF.01%' AND WHSE = 'DET' THEN 'DET2'\n",
    "\t\tWHEN TO_LOCATION LIKE '%L1.HOFF%' AND WHSE = 'HAZ' THEN 'HAZ1'\n",
    "\t\tWHEN TO_LOCATION LIKE '%L2.HOFF%' AND WHSE = 'HAZ' THEN 'HAZ2'\n",
    "\t\tWHEN TO_LOCATION LIKE '%L3.HOFF%' AND WHSE = 'HAZ' THEN 'HAZ3'\n",
    "\t\tWHEN TO_LOCATION LIKE '%L4.HOFF%' AND WHSE = 'HAZ' THEN 'HAZ4'\n",
    "\t\tWHEN TO_LOCATION LIKE '%L1L2.RAW.HNDOFF%' AND WHSE = 'HOU' THEN 'HOU1'\n",
    "\t\tWHEN TO_LOCATION LIKE '%L3.RAW.HNDOFF%' AND WHSE = 'HOU' THEN 'HOU3'\n",
    "\t\tWHEN TO_LOCATION LIKE '%L4.RAW.HNDOFF%' AND WHSE = 'HOU' THEN 'HOU4'\n",
    "\t\tWHEN TO_LOCATION LIKE '%DDR.HOFF.L1%' AND WHSE = 'JAX' THEN 'JAX1'\n",
    "\t\tWHEN TO_LOCATION LIKE '%DDR.HOFF.L2%' AND WHSE = 'JAX' THEN 'JAX2'\n",
    "\t\tWHEN TO_LOCATION LIKE '%DDR.HOFF.L3%' AND WHSE = 'JAX' THEN 'JAX3'\n",
    "\t\tWHEN TO_LOCATION LIKE '%DDR.HOFF.L4%' AND WHSE = 'JAX' THEN 'JAX4'\n",
    "\t\tWHEN TO_LOCATION LIKE '%DDR.HOFF.L5%' AND WHSE = 'JAX' THEN 'JAX5'\n",
    "\t\tWHEN TO_LOCATION LIKE '%HOFF.01%' AND WHSE = 'KC2' THEN 'KC21'\n",
    "\t\tWHEN TO_LOCATION LIKE '%HOFF.02%' AND WHSE = 'KC2' THEN 'KC22'\n",
    "\t\tWHEN TO_LOCATION LIKE '%RAW.HNDOFF.01%' AND WHSE = 'KEN' THEN 'KEN1'\n",
    "\t\tWHEN TO_LOCATION LIKE '%RAW.HNDOFF.01%' AND WHSE = 'KEN' THEN 'KEN2'\n",
    "\t\tWHEN TO_LOCATION LIKE '%RAW.HNDOFF.01%' AND WHSE = 'KEN' THEN 'KEN3'\n",
    "\t\tWHEN TO_LOCATION LIKE '%RAW.HNDOFF.01%' AND WHSE = 'KEN' THEN 'KEN4'\n",
    "\t\tWHEN TO_LOCATION LIKE '%L1.HOFF%' AND WHSE = 'KNC' THEN 'KNC1'\n",
    "\t\tWHEN TO_LOCATION LIKE '%L2.HOFF%' AND WHSE = 'KNC' THEN 'KNC2'\n",
    "\t\tWHEN TO_LOCATION LIKE '%L3.HOFF%' AND WHSE = 'KNC' THEN 'KNC3'\n",
    "\t\tWHEN TO_LOCATION LIKE '%RDD.RAW.HOFF.L1%' AND WHSE = 'LOU' THEN 'LOU1'\n",
    "\t\tWHEN TO_LOCATION LIKE '%RDD.RAW.HOFF.L2%' AND WHSE = 'LOU' THEN 'LOU2'\n",
    "\t\tWHEN TO_LOCATION LIKE '%RDD.RAW.HOFF.L3%' AND WHSE = 'LOU' THEN 'LOU3'\n",
    "\t\tWHEN TO_LOCATION LIKE '%RDD.RAW.HOFF.L4%' AND WHSE = 'LOU' THEN 'LOU4'\n",
    "\t\tWHEN TO_LOCATION LIKE '%RDD.RAW.HOFF.L5%' AND WHSE = 'LOU' THEN 'LOU5'\n",
    "\t\tWHEN TO_LOCATION LIKE '%RAW.HNDOFF.01%' AND WHSE = 'MES' THEN 'MES1'\n",
    "\t\tWHEN TO_LOCATION LIKE '%RAW.HNDOFF.05%' AND WHSE = 'MES' THEN 'MES2'\n",
    "\t\tWHEN TO_LOCATION LIKE '%RAW.HNDOFF.06%' AND WHSE = 'MES' THEN 'MES2'\n",
    "\t\tWHEN TO_LOCATION LIKE '%RAW.HNDOFF.01%' AND WHSE = 'MIA' THEN 'MIA1'\n",
    "\t\tWHEN TO_LOCATION LIKE '%RAW.HNDOFF.02%' AND WHSE = 'MIA' THEN 'MIA2'\n",
    "\t\tWHEN TO_LOCATION LIKE '%RAW.HNDOFF.07%' AND WHSE = 'MIA' THEN 'MIA3'\n",
    "\t\tWHEN TO_LOCATION LIKE '%RAW.HNDOFF.04%' AND WHSE = 'MIA' THEN 'MIA5'\n",
    "\t\tWHEN TO_LOCATION LIKE '%RAW.HNDOFF.01%' AND WHSE = 'MIS' THEN 'MIS1'\n",
    "\t\tWHEN TO_LOCATION LIKE '%RAW.HNDOFF.02%' AND WHSE = 'MIS' THEN 'MIS2'\n",
    "\t\tWHEN TO_LOCATION LIKE '%RAW.HNDOFF.01%' AND WHSE = 'MTY' THEN 'MTY1'\n",
    "\t\tWHEN TO_LOCATION LIKE '%RAW.HNDOFF.01%' AND WHSE = 'OKC' THEN 'OKC1'\n",
    "\t\tWHEN TO_LOCATION LIKE '%RAW.HNDOFF.02%' AND WHSE = 'OKC' THEN 'OKC1'\n",
    "\t\tWHEN TO_LOCATION LIKE '%RAW.HNDOFF.L2.01%' AND WHSE = 'OKC' THEN 'OKC2'\n",
    "\t\tWHEN TO_LOCATION LIKE '%RAW.HNDOFF.L2.02%' AND WHSE = 'OKC' THEN 'OKC2'\n",
    "\t\tWHEN TO_LOCATION LIKE '%RAW.HOFF.08%' AND WHSE = 'PIT' THEN 'PIT1'\n",
    "\t\tWHEN TO_LOCATION LIKE '%RAW.HOFF.09%' AND WHSE = 'PIT' THEN 'PIT1'\n",
    "\t\tWHEN TO_LOCATION LIKE '%RAW.HOFF.10%' AND WHSE = 'PIT' THEN 'PIT2'\n",
    "\t\tWHEN TO_LOCATION LIKE '%RAW.HOFF.11%' AND WHSE = 'PIT' THEN 'PIT2'\n",
    "\t\tWHEN TO_LOCATION LIKE '%RAW.HNDOFF.01%' AND WHSE = 'RCH' THEN 'RCH1'\n",
    "\t\tWHEN TO_LOCATION LIKE '%RAW.HNDOFF.02%' AND WHSE = 'RCH' THEN 'RCH2'\n",
    "\t\tWHEN TO_LOCATION LIKE '%RAW.HNDOFF.03%' AND WHSE = 'RCH' THEN 'RCH3'\n",
    "\t\tWHEN TO_LOCATION LIKE '%RAW.HNDOFF.01%' AND WHSE = 'RIA' THEN 'RIA1'\n",
    "\t\tWHEN TO_LOCATION LIKE '%RAW.HNDOFF.01%' AND WHSE = 'SAN' THEN 'SAN1'\n",
    "\t\tWHEN TO_LOCATION LIKE '%RAW.HNDOFF.02%' AND WHSE = 'SAN' THEN 'SAN2'\n",
    "\t\tWHEN TO_LOCATION LIKE '%RAW.HNDOFF.03%' AND WHSE = 'SAN' THEN 'SAN3'\n",
    "\t\tWHEN TO_LOCATION LIKE '%RAW.HNDOFF.04%' AND WHSE = 'SAN' THEN 'SAN4'\n",
    "\t\tWHEN TO_LOCATION LIKE '%L1.HOFF.01%' AND WHSE = 'ST3' THEN 'ST31'\n",
    "\t\tWHEN TO_LOCATION LIKE '%L2.HOFF.01%' AND WHSE = 'ST3' THEN 'ST32'\n",
    "\t\tWHEN TO_LOCATION LIKE '%L1.RAW.HNDOFF.01%' AND WHSE = 'TAC' THEN 'TAC1'\n",
    "\t\tWHEN TO_LOCATION LIKE '%L1.RAW.HNDOFF.02%' AND WHSE = 'TAC' THEN 'TAC1'\n",
    "\t\tWHEN TO_LOCATION LIKE '%L1.RAW.HNDOFF.03%' AND WHSE = 'TAC' THEN 'TAC1'\n",
    "\t\tWHEN TO_LOCATION LIKE '%L3.RAW.HNDOFF.01%' AND WHSE = 'TAC' THEN 'TAC3'\n",
    "\t\tWHEN TO_LOCATION LIKE '%L3.RAW.HNDOFF.02%' AND WHSE = 'TAC' THEN 'TAC3'\n",
    "\t\tWHEN TO_LOCATION LIKE '%L3.RAW.HNDOFF.03%' AND WHSE = 'TAC' THEN 'TAC3'\n",
    "      END AS Line\n",
    "            ,[SKU]\n",
    "            ,[FROM_LOCATION]\n",
    "            ,[TO_LOCATION]\n",
    "            ,[INSERT_DTTM]\n",
    "            ,[COMPLETE_DTTM]\n",
    "            ,[TRANSPORT_ORDER_TYPE]\n",
    "            ,DATEDIFF(MINUTE, INSERT_DTTM, COMPLETE_DTTM) AS Duration_in_Minutes\n",
    "        FROM [HISTORY].[LGV_TRANSPORT_ORDER_HISTORY]\n",
    "        WHERE 1=1\n",
    "            AND WHSE = 'MIA'\n",
    "            AND TRANSPORT_ORDER_TYPE LIKE '%from%Mes%'\n",
    "            AND DATEDIFF(DAY,COMPLETE_DTTM,GETDATE()) <= 180\n",
    "\n",
    "\"\"\"\n",
    "                    )\n",
    "\n",
    "    result = connection.execute(query)\n",
    "    print(result)\n",
    "    df_fetch_requests = pd.DataFrame(result.fetchall(), columns=result.keys())\n",
    "    df_fetch_requests.Duration_in_Minutes = df_fetch_requests.Duration_in_Minutes.astype(float)"
   ]
  },
  {
   "cell_type": "code",
   "execution_count": null,
   "metadata": {},
   "outputs": [],
   "source": [
    "df_fetch_requests.head()"
   ]
  },
  {
   "cell_type": "code",
   "execution_count": null,
   "metadata": {},
   "outputs": [],
   "source": []
  },
  {
   "cell_type": "code",
   "execution_count": null,
   "metadata": {},
   "outputs": [],
   "source": [
    "df_fetch_requests = pd.merge(df_item_lookup, df_fetch_requests, left_on='item', right_on='SKU', how='inner')"
   ]
  },
  {
   "cell_type": "code",
   "execution_count": null,
   "metadata": {},
   "outputs": [],
   "source": [
    "df_fetch_requests.head()\n",
    "df_fetch_requests = df_fetch_requests[[\"Line\", \"item\", \"item_type\", \"FROM_LOCATION\", \"TO_LOCATION\", \"INSERT_DTTM\", \"COMPLETE_DTTM\", \"Duration_in_Minutes\"]]"
   ]
  },
  {
   "cell_type": "code",
   "execution_count": null,
   "metadata": {},
   "outputs": [],
   "source": [
    "df_fetch_requests.head()"
   ]
  },
  {
   "cell_type": "code",
   "execution_count": null,
   "metadata": {},
   "outputs": [],
   "source": [
    "df_fetch_requests[\"Duration_in_Minutes\"].sort_values(ascending=False)"
   ]
  },
  {
   "cell_type": "code",
   "execution_count": null,
   "metadata": {},
   "outputs": [],
   "source": [
    "sns.histplot(df_fetch_requests[\"Duration_in_Minutes\"][df_fetch_requests[\"Duration_in_Minutes\"] < 200])"
   ]
  },
  {
   "cell_type": "code",
   "execution_count": null,
   "metadata": {},
   "outputs": [],
   "source": [
    "log_minutes = np.log10(df_fetch_requests.Duration_in_Minutes)"
   ]
  },
  {
   "cell_type": "code",
   "execution_count": null,
   "metadata": {},
   "outputs": [],
   "source": [
    "sns.histplot(log_minutes)\n",
    "plt.xlabel(\"Log_10(Duration_in_Minutes)\")"
   ]
  },
  {
   "cell_type": "code",
   "execution_count": null,
   "metadata": {},
   "outputs": [],
   "source": [
    "#df_fetch_requests[\"INSERT_DTTM\"].to_datetime()\n",
    "df_fetch_requests[\"INSERT_DATE\"] = pd.to_datetime(df_fetch_requests[\"INSERT_DTTM\"]).dt.date\n",
    "df_fetch_requests[\"COMPLETE_DATE\"] = pd.to_datetime(df_fetch_requests[\"COMPLETE_DTTM\"]).dt.date"
   ]
  },
  {
   "cell_type": "code",
   "execution_count": null,
   "metadata": {},
   "outputs": [],
   "source": [
    "df_fetch_requests"
   ]
  },
  {
   "cell_type": "code",
   "execution_count": null,
   "metadata": {},
   "outputs": [],
   "source": [
    "#df_produced = pd.read_csv(\"initial_files/csv_files/lou_total_cases_produced.csv\")\n",
    "#df_produced[\"Date\"] = pd.to_datetime(df_produced[\"Date\"], format='%m/%d/%Y').dt.strftime('%Y-%m-%d')\n",
    "#df_produced.dtypes\n",
    "#df_produced.head()"
   ]
  },
  {
   "cell_type": "code",
   "execution_count": null,
   "metadata": {},
   "outputs": [],
   "source": [
    "# Create the SQLAlchemy engine (FS DB)\n",
    "engine = create_engine(f\"mssql+pyodbc:///?odbc_connect={fs_params}\")\n",
    "# Try to connect and execute a simple query\n",
    "with engine.connect() as connection:\n",
    "\n",
    "    # Write SQL Query here\n",
    "    query = text(\n",
    "                    \n",
    "\"\"\"\n",
    "    SELECT DISTINCT\n",
    "    ORG,CONCAT(ORG,RIGHT(LINE,1)) COLLATE DATABASE_DEFAULT AS Prod_Line, CONVERT(DATE, ACTUAL_START_TIME) AS Date, SUM(ACTUAL_QUANTITY) AS Total_Cases_Produced\n",
    "\n",
    "    FROM history.LMS_Workbench\n",
    "    WHERE ORG = 'MIA'\n",
    "    AND LINE NOT LIKE 'INJ%'\n",
    "    AND DATEDIFF(DAY,ACTUAL_START_TIME, GETDATE()) <= 180\n",
    "\n",
    "    GROUP BY ORG,CONCAT(ORG,RIGHT(LINE,1)) COLLATE DATABASE_DEFAULT, LINE, CONVERT(DATE, ACTUAL_START_TIME)\n",
    "    ORDER BY Date\n",
    "        \n",
    "\"\"\"\n",
    "                    )\n",
    "\n",
    "    result = connection.execute(query)\n",
    "    print(result)\n",
    "    df_produced = pd.DataFrame(result.fetchall(), columns=result.keys())\n",
    "    df_produced.Total_Cases_Produced = df_produced.Total_Cases_Produced.astype(int)"
   ]
  },
  {
   "cell_type": "code",
   "execution_count": null,
   "metadata": {},
   "outputs": [],
   "source": [
    "df_produced.shape"
   ]
  },
  {
   "cell_type": "code",
   "execution_count": null,
   "metadata": {},
   "outputs": [],
   "source": [
    "# Create the SQLAlchemy engine (FS DB)\n",
    "engine = create_engine(f\"mssql+pyodbc:///?odbc_connect={fs_params}\")\n",
    "# Try to connect and execute a simple query\n",
    "with engine.connect() as connection:\n",
    "\n",
    "    # Write SQL Query here\n",
    "    query = text(\n",
    "                    \n",
    "\"\"\"\n",
    "    WITH CTE AS (\n",
    "    SELECT DISTINCT ORG, TC_SHIPMENT_ID, SHIPPED_QTY, CONVERT(DATE, ACTUAL_SHIPPED_DTTM) AS SHIPPED_DATE\n",
    "    FROM history.MA_ShipmentHistory\n",
    "    WHERE ORG = 'MIA'\n",
    "    AND DATEDIFF(DAY,ACTUAL_SHIPPED_DTTM,GETDATE()) <= 180\n",
    "    )\n",
    "    ,\n",
    "    CTE2 AS (\n",
    "    SELECT ORG, SHIPPED_DATE, SUM(SHIPPED_QTY) AS Total_Cases_Shipped\n",
    "    FROM CTE\n",
    "    GROUP BY ORG, SHIPPED_DATE\n",
    "    )\n",
    "\n",
    "    SELECT DISTINCT\n",
    "    ORG, SHIPPED_DATE, CAST(Total_Cases_Shipped AS int) AS Total_Cases_Shipped FROM CTE2\n",
    "    ORDER BY SHIPPED_DATE\n",
    "\n",
    "\"\"\"\n",
    "                    )\n",
    "\n",
    "    result = connection.execute(query)\n",
    "    print(result)\n",
    "    df_shipped = pd.DataFrame(result.fetchall(), columns=result.keys())"
   ]
  },
  {
   "cell_type": "code",
   "execution_count": null,
   "metadata": {},
   "outputs": [],
   "source": [
    "df_shipped.shape"
   ]
  },
  {
   "cell_type": "code",
   "execution_count": null,
   "metadata": {},
   "outputs": [],
   "source": [
    "df_shipped.dtypes"
   ]
  },
  {
   "cell_type": "code",
   "execution_count": null,
   "metadata": {},
   "outputs": [],
   "source": [
    "# df_shipped = pd.read_csv(\"initial_files/csv_files/lou_total_cases_shipped.csv\")\n",
    "# df_shipped[\"SHIPPED_DATE\"] = pd.to_datetime(df_shipped[\"SHIPPED_DATE\"], format='%m/%d/%Y').dt.strftime('%Y-%m-%d')\n",
    "# df_shipped.dtypes"
   ]
  },
  {
   "cell_type": "code",
   "execution_count": null,
   "metadata": {},
   "outputs": [],
   "source": [
    "df_fetch_requests[\"INSERT_DATE\"] = pd.to_datetime(df_fetch_requests[\"INSERT_DATE\"])\n",
    "df_fetch_requests[\"COMPLETE_DATE\"] = pd.to_datetime(df_fetch_requests[\"COMPLETE_DATE\"])\n",
    "df_fetch_requests[\"INSERT_DTTM\"] = pd.to_datetime(df_fetch_requests[\"INSERT_DTTM\"])\n",
    "df_fetch_requests[\"COMPLETE_DTTM\"] = pd.to_datetime(df_fetch_requests[\"COMPLETE_DTTM\"])\n",
    "#df_fetch_requests.dtypes"
   ]
  },
  {
   "cell_type": "code",
   "execution_count": null,
   "metadata": {},
   "outputs": [],
   "source": [
    "df_produced[\"Date\"] = pd.to_datetime(df_produced[\"Date\"])\n",
    "df_shipped[\"SHIPPED_DATE\"] = pd.to_datetime(df_shipped[\"SHIPPED_DATE\"])"
   ]
  },
  {
   "cell_type": "code",
   "execution_count": null,
   "metadata": {},
   "outputs": [],
   "source": [
    "df_fetch_requests = pd.merge(df_fetch_requests, df_produced, left_on='INSERT_DATE', right_on='Date', how='left')\n",
    "df_fetch_requests"
   ]
  },
  {
   "cell_type": "code",
   "execution_count": null,
   "metadata": {},
   "outputs": [],
   "source": [
    "df_fetch_requests = pd.merge(df_fetch_requests, df_shipped, left_on='INSERT_DATE', right_on='SHIPPED_DATE', how='inner')\n",
    "df_fetch_requests"
   ]
  },
  {
   "cell_type": "code",
   "execution_count": null,
   "metadata": {},
   "outputs": [],
   "source": [
    "df_fetch_requests = df_fetch_requests[[\"Line\",\"item\",\"item_type\",\"FROM_LOCATION\",\"TO_LOCATION\",\"INSERT_DTTM\",\"COMPLETE_DTTM\",\"Duration_in_Minutes\",\"INSERT_DATE\",\"COMPLETE_DATE\",\"Total_Cases_Produced\",\"Total_Cases_Shipped\"]]"
   ]
  },
  {
   "cell_type": "code",
   "execution_count": null,
   "metadata": {},
   "outputs": [],
   "source": [
    "df_fetch_requests.columns = df_fetch_requests.columns.str.lower().str.replace(' ', '_')"
   ]
  },
  {
   "cell_type": "code",
   "execution_count": null,
   "metadata": {},
   "outputs": [],
   "source": [
    "df_fetch_requests = df_fetch_requests.rename(columns={\"total_cases_produced\": \"total_cases_produced_for_day\",\"total_cases_shipped\": \"total_cases_shipped_for_day\", \"test\":\"line\"})\n",
    "df_fetch_requests"
   ]
  },
  {
   "cell_type": "code",
   "execution_count": null,
   "metadata": {},
   "outputs": [],
   "source": [
    "df_fetch_requests[\"duration_in_minutes\"] = df_fetch_requests[\"duration_in_minutes\"].round(2)"
   ]
  },
  {
   "cell_type": "code",
   "execution_count": null,
   "metadata": {},
   "outputs": [],
   "source": [
    "df_fetch_requests"
   ]
  },
  {
   "cell_type": "code",
   "execution_count": null,
   "metadata": {},
   "outputs": [],
   "source": [
    "features_list = list(df_fetch_requests.columns)\n",
    "features_list"
   ]
  },
  {
   "cell_type": "code",
   "execution_count": null,
   "metadata": {},
   "outputs": [],
   "source": [
    "for v in ['MIA1', 'MIA2', 'MIA3', 'MIA5']:\n",
    "    feature = f\"line_{v}\"\n",
    "    df_fetch_requests[feature] = (df_fetch_requests[\"line\"] == v).astype(int)\n",
    "    features_list.append(feature)"
   ]
  },
  {
   "cell_type": "code",
   "execution_count": null,
   "metadata": {},
   "outputs": [],
   "source": [
    "for v in ['SHRF', 'LABL']:\n",
    "    feature = f\"item_type_{v}\"\n",
    "    df_fetch_requests[feature] = (df_fetch_requests[\"item_type\"] == v).astype(int)\n",
    "    features_list.append(feature)"
   ]
  },
  {
   "cell_type": "code",
   "execution_count": null,
   "metadata": {},
   "outputs": [],
   "source": [
    "df_fetch_requests.from_location.value_counts()"
   ]
  },
  {
   "cell_type": "code",
   "execution_count": null,
   "metadata": {},
   "outputs": [],
   "source": [
    "#df_fetch_requests[\"storage_location_type\"] = df_fetch_requests[\"from_location\"].str[0:4]"
   ]
  },
  {
   "cell_type": "code",
   "execution_count": null,
   "metadata": {},
   "outputs": [],
   "source": [
    "df_fetch_requests.head()"
   ]
  },
  {
   "cell_type": "code",
   "execution_count": null,
   "metadata": {},
   "outputs": [],
   "source": [
    "# df_fetch_requests.total_cases_produced_for_day.isnull().value_counts()\n",
    "# df_fetch_requests.total_cases_shipped_for_day.isnull().value_counts()\n",
    "df_fetch_requests.total_cases_produced_for_day = df_fetch_requests.total_cases_produced_for_day.fillna(0)\n",
    "df_fetch_requests.total_cases_shipped_for_day = df_fetch_requests.total_cases_shipped_for_day.fillna(0)"
   ]
  },
  {
   "cell_type": "code",
   "execution_count": null,
   "metadata": {},
   "outputs": [],
   "source": [
    "# for v in ['NR.S', 'SR.S']:\n",
    "#     feature = f\"storage_location_type_{v}\"\n",
    "#     df_fetch_requests[feature] = (df_fetch_requests[\"storage_location_type\"] == v).astype(int)\n",
    "#     features_list.append(feature)"
   ]
  },
  {
   "cell_type": "code",
   "execution_count": null,
   "metadata": {},
   "outputs": [],
   "source": [
    "df_fetch_requests.dtypes"
   ]
  },
  {
   "cell_type": "code",
   "execution_count": null,
   "metadata": {},
   "outputs": [],
   "source": [
    "numerical_matrix_df = df_fetch_requests.select_dtypes(include=['int64', 'float'])"
   ]
  },
  {
   "cell_type": "code",
   "execution_count": null,
   "metadata": {},
   "outputs": [],
   "source": [
    "numerical_matrix_df"
   ]
  },
  {
   "cell_type": "code",
   "execution_count": null,
   "metadata": {},
   "outputs": [],
   "source": [
    "# y_train_orig = df_train.duration_in_minutes.values\n",
    "# y_val_orig = df_val.duration_in_minutes.values\n",
    "# y_test_orig = df_test.duration_in_minutes.values\n",
    "\n",
    "# y_train = np.log10(df_train.duration_in_minutes.values)\n",
    "# y_val = np.log10(df_val.duration_in_minutes.values)\n",
    "# y_test = np.log10(df_test.duration_in_minutes.values)"
   ]
  },
  {
   "cell_type": "code",
   "execution_count": null,
   "metadata": {},
   "outputs": [],
   "source": [
    "# Start with your original DataFrame (before the numerical conversion)\n",
    "df_fetch_requests_enriched = df_fetch_requests.copy()\n",
    "\n",
    "# 1. Handle Rare Locations\n",
    "location_counts = df_fetch_requests_enriched['from_location'].value_counts()\n",
    "rare_locations = location_counts[location_counts < 10].index\n",
    "df_fetch_requests_enriched['location_grouped'] = df_fetch_requests_enriched['from_location'].apply(\n",
    "    lambda x: 'RARE_LOCATION' if x in rare_locations else x\n",
    ")\n",
    "\n",
    "# 2. Add Location Statistics\n",
    "location_avg = df_fetch_requests_enriched.groupby('location_grouped')['duration_in_minutes'].mean().to_dict()\n",
    "location_median = df_fetch_requests_enriched.groupby('location_grouped')['duration_in_minutes'].median().to_dict()\n",
    "location_std = df_fetch_requests_enriched.groupby('location_grouped')['duration_in_minutes'].std().fillna(0).to_dict()\n",
    "\n",
    "df_fetch_requests_enriched['location_avg_time'] = df_fetch_requests_enriched['location_grouped'].map(location_avg)\n",
    "df_fetch_requests_enriched['location_median_time'] = df_fetch_requests_enriched['location_grouped'].map(location_median)\n",
    "df_fetch_requests_enriched['location_std_time'] = df_fetch_requests_enriched['location_grouped'].map(location_std)\n",
    "\n",
    "# # 3. Add Cross Features\n",
    "# df_fetch_requests_enriched['nr.s_with_shrf'] = ((df_fetch_requests_enriched['storage_location_type'] == 'NR.S') & \n",
    "#                                            (df_fetch_requests_enriched['item_type'] == 'SHRF')).astype(int)\n",
    "# df_fetch_requests_enriched['sr.s_with_labl'] = ((df_fetch_requests_enriched['storage_location_type'] == 'SR.S') & \n",
    "#                                            (df_fetch_requests_enriched['item_type'] == 'LABL')).astype(int)\n",
    "\n",
    "# Time-based features from insert_dttm\n",
    "# df_fetch_requests_enriched['hour_of_day'] = df_fetch_requests_enriched['insert_dttm'].dt.hour\n",
    "# df_fetch_requests_enriched['day_of_week'] = df_fetch_requests_enriched['insert_dttm'].dt.dayofweek  # 0=Monday, 6=Sunday\n",
    "\n",
    "# # Create one-hot encoding for hour of day and day of week\n",
    "# for hour in range(24):\n",
    "#     df_fetch_requests_enriched[f'hour_{hour}'] = (df_fetch_requests_enriched['hour_of_day'] == hour).astype(int)\n",
    "\n",
    "# for day in range(7):\n",
    "#     df_fetch_requests_enriched[f'day_{day}'] = (df_fetch_requests_enriched['day_of_week'] == day).astype(int)\n",
    "\n",
    "# # Add features for business hours vs. off-hours\n",
    "# df_fetch_requests_enriched['business_hours'] = ((df_fetch_requests_enriched['hour_of_day'] >= 8) & \n",
    "#                                            (df_fetch_requests_enriched['hour_of_day'] < 17) &\n",
    "#                                            (df_fetch_requests_enriched['day_of_week'] < 5)).astype(int)\n",
    "\n",
    "# df_fetch_requests_enriched['night_shift'] = ((df_fetch_requests_enriched['hour_of_day'] >= 19) | \n",
    "#                                         (df_fetch_requests_enriched['hour_of_day'] < 7)).astype(int)\n",
    "\n",
    "# df_fetch_requests_enriched['weekend'] = (df_fetch_requests_enriched['day_of_week'] >= 5).astype(int)\n",
    "\n",
    "# Calculate cases produced/shipped ratios\n",
    "# Add a small value to avoid division by zero\n",
    "epsilon = 1e-10\n",
    "df_fetch_requests_enriched['cases_ratio'] = df_fetch_requests_enriched['total_cases_produced_for_day'] / (df_fetch_requests_enriched['total_cases_shipped_for_day'] + epsilon)\n",
    "\n",
    "# Cap extreme ratios to prevent outliers\n",
    "df_fetch_requests_enriched['cases_ratio'] = df_fetch_requests_enriched['cases_ratio'].clip(0, 10)\n",
    "\n",
    "# Hour + item_type interaction features\n",
    "# df_fetch_requests_enriched['morning_shrf'] = ((df_fetch_requests_enriched['hour_of_day'] < 12) & \n",
    "#                                          (df_fetch_requests_enriched['item_type'] == 'SHRF')).astype(int)\n",
    "\n",
    "# df_fetch_requests_enriched['evening_labl'] = ((df_fetch_requests_enriched['hour_of_day'] >= 19) & \n",
    "#                                          (df_fetch_requests_enriched['item_type'] == 'LABL')).astype(int)\n",
    "\n",
    "# Update numerical_columns to include new features\n",
    "numerical_columns = [\n",
    "    'duration_in_minutes', 'total_cases_produced_for_day', 'total_cases_shipped_for_day',\n",
    "    'line_MIA1', 'line_MIA2', 'line_MIA3', 'line_MIA5',\n",
    "    'item_type_SHRF', 'item_type_LABL', #'storage_location_type_NR.S', 'storage_location_type_SR.S',\n",
    "    'location_avg_time', 'location_median_time', 'location_std_time',\n",
    "    # 'nr.s_with_shrf', 'sr.s_with_labl',\n",
    "    'cases_ratio',\n",
    "    # 'business_hours', 'night_shift', 'weekend',\n",
    "    # 'morning_shrf', 'evening_labl'\n",
    "]\n",
    "\n",
    "# # Add hour and day dummy variables (dropping one from each to avoid multicollinearity)\n",
    "# for hour in range(1, 24):  # Skip hour_0 as the reference category\n",
    "#     numerical_columns.append(f'hour_{hour}')\n",
    "\n",
    "# for day in range(1, 7):  # Skip day_0 (Monday) as the reference category\n",
    "#     numerical_columns.append(f'day_{day}')\n",
    "\n",
    "# Create the numerical matrix with our enhanced features\n",
    "df_numerical = df_fetch_requests_enriched[numerical_columns]\n",
    "\n",
    "# Then continue with your existing train/val/test split logic\n",
    "np.random.seed(2)\n",
    "n = len(df_numerical)\n",
    "n_val = int(0.2 * n)\n",
    "n_test = int(0.2 * n)\n",
    "n_train = n - (n_val + n_test)\n",
    "\n",
    "idx = np.arange(n)\n",
    "np.random.shuffle(idx)\n",
    "\n",
    "df_shuffled = df_numerical.iloc[idx]\n",
    "\n",
    "df_train = df_shuffled.iloc[:n_train].copy()\n",
    "df_val = df_shuffled.iloc[n_train:n_train+n_val].copy()\n",
    "df_test = df_shuffled.iloc[n_train+n_val:].copy()"
   ]
  },
  {
   "cell_type": "code",
   "execution_count": null,
   "metadata": {},
   "outputs": [],
   "source": [
    "y_train_orig = df_train.duration_in_minutes.values\n",
    "y_val_orig = df_val.duration_in_minutes.values\n",
    "y_test_orig = df_test.duration_in_minutes.values\n",
    "\n",
    "y_train = np.log10(df_train.duration_in_minutes.values)\n",
    "y_val = np.log10(df_val.duration_in_minutes.values)\n",
    "y_test = np.log10(df_test.duration_in_minutes.values)"
   ]
  },
  {
   "cell_type": "code",
   "execution_count": null,
   "metadata": {},
   "outputs": [],
   "source": [
    "def prepare_X(df):\n",
    "    df = df.copy()\n",
    "    \n",
    "    # Remove target variable if it exists\n",
    "    if 'duration_in_minutes' in df.columns:\n",
    "        df = df.drop('duration_in_minutes', axis=1)\n",
    "    \n",
    "    # Drop one category from each set of dummy variables to avoid multicollinearity\n",
    "    columns_to_drop = ['line_MIA5', 'item_type_LABL']   #, 'storage_location_type_SR.S']\n",
    "    df = df.drop([x for x in columns_to_drop if x in df.columns], axis=1)\n",
    "    \n",
    "    feature_names = list(df.columns)\n",
    "    X = df.values\n",
    "    return X, feature_names"
   ]
  },
  {
   "cell_type": "code",
   "execution_count": null,
   "metadata": {},
   "outputs": [],
   "source": [
    "X_train = prepare_X(df_train)\n",
    "X_train"
   ]
  },
  {
   "cell_type": "code",
   "execution_count": null,
   "metadata": {},
   "outputs": [],
   "source": [
    "from sklearn.ensemble import RandomForestRegressor\n",
    "from sklearn.metrics import mean_squared_error\n",
    "import numpy as np\n",
    "\n",
    "# Prepare data\n",
    "X_train, feature_names = prepare_X(df_train)\n",
    "X_val, _ = prepare_X(df_val)\n",
    "\n",
    "# 1. Hyperparameter tuning\n",
    "from sklearn.model_selection import RandomizedSearchCV\n",
    "\n",
    "param_dist = {\n",
    "    'n_estimators': [50, 100, 200],\n",
    "    'max_depth': [None, 10, 20, 30],\n",
    "    'min_samples_split': [2, 5, 10],\n",
    "    'min_samples_leaf': [1, 2, 4]\n",
    "}\n",
    "\n",
    "rf = RandomForestRegressor(random_state=42)\n",
    "random_search = RandomizedSearchCV(rf, param_distributions=param_dist, \n",
    "                                  n_iter=10, cv=3, scoring='neg_mean_squared_error',\n",
    "                                  random_state=42)\n",
    "random_search.fit(X_train, y_train)\n",
    "\n",
    "# Get the best model\n",
    "best_rf = random_search.best_estimator_\n",
    "print(f\"Best parameters: {random_search.best_params_}\")\n",
    "\n",
    "# 2. Make predictions with the tuned model\n",
    "y_train_pred_rf = best_rf.predict(X_train)\n",
    "y_val_pred_rf = best_rf.predict(X_val)\n",
    "\n",
    "# Calculate RMSE\n",
    "train_rmse_rf = np.sqrt(mean_squared_error(y_train, y_train_pred_rf))\n",
    "val_rmse_rf = np.sqrt(mean_squared_error(y_val, y_val_pred_rf))\n",
    "\n",
    "print(f\"Tuned RF Training RMSE: {train_rmse_rf:.4f}\")\n",
    "print(f\"Tuned RF Validation RMSE: {val_rmse_rf:.4f}\")\n",
    "\n",
    "# 3. Feature importance analysis\n",
    "importances = best_rf.feature_importances_\n",
    "# Get feature names - adjust this depending on how you access column names\n",
    "#feature_names = X_train.columns if hasattr(X_train, 'columns') else [f\"feature_{i}\" for i in range(X_train.shape[1])]\n",
    "indices = np.argsort(importances)[::-1]\n",
    "\n",
    "# Print direct feature importances\n",
    "for i, (name, importance) in enumerate(zip(feature_names, importances)):\n",
    "    if i < 20:  # Just print the first 20\n",
    "        print(f\"{i+1}. {name}: {importance:.4f}\")\n",
    "\n",
    "# Print the feature ranking\n",
    "print(\"Feature ranking:\")\n",
    "for f in range(min(20, X_train.shape[1])):\n",
    "    if f < len(indices):\n",
    "        feature_idx = indices[f]\n",
    "        if feature_idx < len(feature_names):\n",
    "            feature_name = feature_names[feature_idx]\n",
    "            importance = importances[feature_idx]\n",
    "            print(f\"{f+1}. {feature_name} ({importance:.4f})\")\n",
    "\n",
    "# 4. Plot feature importances (optional)\n",
    "plt.figure(figsize=(12, 8))\n",
    "plt.title(\"Feature importances\")\n",
    "plt.bar(range(min(20, X_train.shape[1])), \n",
    "        [importances[i] for i in indices[:20]],\n",
    "        align=\"center\")\n",
    "plt.xticks(range(min(20, X_train.shape[1])), \n",
    "           [feature_names[i] for i in indices[:20]], \n",
    "           rotation=90)\n",
    "plt.tight_layout()\n",
    "plt.show()"
   ]
  },
  {
   "cell_type": "code",
   "execution_count": null,
   "metadata": {},
   "outputs": [],
   "source": [
    "sns.histplot(y_train, label='target')\n",
    "sns.histplot(y_train_pred_rf, label='prediction')\n",
    "\n",
    "plt.legend()\n",
    "plt.title('Predictions vs. actual distribution (training) - random forest')\n",
    "plt.xlabel('Log10(duration_in_minutes)')"
   ]
  },
  {
   "cell_type": "code",
   "execution_count": null,
   "metadata": {},
   "outputs": [],
   "source": [
    "sns.histplot(y_val, label='target')\n",
    "sns.histplot(y_val_pred_rf, label='prediction')\n",
    "\n",
    "plt.legend()\n",
    "plt.title('Predictions vs. actual distribution (validation) - random forest')\n",
    "plt.xlabel('Log10(duration_in_minutes)')"
   ]
  },
  {
   "cell_type": "code",
   "execution_count": null,
   "metadata": {},
   "outputs": [],
   "source": [
    "from sklearn.ensemble import RandomForestRegressor\n",
    "from sklearn.metrics import mean_squared_error\n",
    "import numpy as np\n",
    "\n",
    "# Prepare data\n",
    "X_train, feature_names = prepare_X(df_train)\n",
    "X_val, _ = prepare_X(df_val)\n",
    "X_test, _ = prepare_X(df_test)  # If you have test data\n",
    "\n",
    "# Create model with the best parameters you already found\n",
    "best_params = {'n_estimators': 200, 'max_depth': 30, 'min_samples_split': 2, 'min_samples_leaf': 1}\n",
    "rf_model = RandomForestRegressor(**best_params, random_state=42)\n",
    "\n",
    "# Train the model\n",
    "rf_model.fit(X_train, y_train)\n",
    "\n",
    "# Make predictions\n",
    "y_train_pred = rf_model.predict(X_train)\n",
    "y_val_pred = rf_model.predict(X_val)\n",
    "\n",
    "# Calculate RMSE\n",
    "train_rmse = np.sqrt(mean_squared_error(y_train, y_train_pred))\n",
    "val_rmse = np.sqrt(mean_squared_error(y_val, y_val_pred))\n",
    "\n",
    "print(f\"RF Training RMSE: {train_rmse:.4f}\")\n",
    "print(f\"RF Validation RMSE: {val_rmse:.4f}\")\n",
    "\n",
    "# Feature importance analysis\n",
    "importances = rf_model.feature_importances_\n",
    "indices = np.argsort(importances)[::-1]\n",
    "\n",
    "# Print feature ranking\n",
    "print(\"Feature ranking:\")\n",
    "for f in range(min(10, X_train.shape[1])):\n",
    "    feature_idx = indices[f]\n",
    "    feature_name = feature_names[feature_idx]\n",
    "    importance = importances[feature_idx]\n",
    "    print(f\"{f+1}. {feature_name} ({importance:.4f})\")"
   ]
  },
  {
   "cell_type": "code",
   "execution_count": null,
   "metadata": {},
   "outputs": [],
   "source": []
  }
 ],
 "metadata": {
  "kernelspec": {
   "display_name": "Python 3",
   "language": "python",
   "name": "python3"
  },
  "language_info": {
   "codemirror_mode": {
    "name": "ipython",
    "version": 3
   },
   "file_extension": ".py",
   "mimetype": "text/x-python",
   "name": "python",
   "nbconvert_exporter": "python",
   "pygments_lexer": "ipython3",
   "version": "3.12.5"
  }
 },
 "nbformat": 4,
 "nbformat_minor": 2
}
