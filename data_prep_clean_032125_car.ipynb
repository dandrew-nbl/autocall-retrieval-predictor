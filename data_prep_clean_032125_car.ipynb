{
 "cells": [
  {
   "cell_type": "code",
   "execution_count": null,
   "metadata": {},
   "outputs": [],
   "source": [
    "import pandas as pd\n",
    "import seaborn as sns\n",
    "import numpy as np\n",
    "from matplotlib import pyplot as plt"
   ]
  },
  {
   "cell_type": "code",
   "execution_count": null,
   "metadata": {},
   "outputs": [],
   "source": [
    "import pandas as pd\n",
    "import sqlalchemy as sa\n",
    "import os\n",
    "from dotenv import load_dotenv\n",
    "\n",
    "from sqlalchemy import create_engine, text\n",
    "import urllib.parse\n",
    "\n",
    "\n",
    "fs_server = os.getenv('FACTORY_SYSTEMS_DB_SERVER')\n",
    "fs_database = os.getenv('FACTORY_SYSTEMS_DB_NAME')\n",
    "fs_username = os.getenv('FACTORY_SYSTEMS_DB_USER')\n",
    "fs_password = os.getenv('FACTORY_SYSTEMS_DB_PASSWORD')\n",
    "\n",
    "se_server = os.getenv('SE_DB_SERVER')\n",
    "se_database = os.getenv('SE_DB_NAME')\n",
    "se_username = os.getenv('SE_DB_USER')\n",
    "se_password = os.getenv('SE_DB_PASSWORD')\n",
    "\n",
    "# Load environment variables\n",
    "load_dotenv()"
   ]
  },
  {
   "cell_type": "code",
   "execution_count": null,
   "metadata": {},
   "outputs": [],
   "source": [
    "# Create a connection string\n",
    "fs_params = urllib.parse.quote_plus(\n",
    "    f'DRIVER={{{os.getenv(\"DB_DRIVER\")}}};'\n",
    "    f'SERVER={fs_server};'\n",
    "    f'DATABASE={fs_database};'\n",
    "    f'UID={fs_username};'\n",
    "    f'PWD={fs_password}'\n",
    ")\n",
    "\n",
    "# Create a connection string\n",
    "se_params = urllib.parse.quote_plus(\n",
    "    f'DRIVER={{{os.getenv(\"DB_DRIVER\")}}};'\n",
    "    f'SERVER={se_server};'\n",
    "    f'DATABASE={se_database};'\n",
    "    f'UID={se_username};'\n",
    "    f'PWD={se_password}'\n",
    ")"
   ]
  },
  {
   "cell_type": "code",
   "execution_count": null,
   "metadata": {},
   "outputs": [],
   "source": [
    "#df_item_lookup = pd.read_csv(\"initial_files/csv_files/item_lookup.csv\", encoding='latin-1')\n",
    "#df_fetch_requests = pd.read_csv(\"initial_files/csv_files/lou_mes_retrieval_requests.csv\")\n",
    "#df_workbench_jobs = pd.read_csv(\"initial_files/csv_files/lou_workbench_jobs.csv\")"
   ]
  },
  {
   "cell_type": "code",
   "execution_count": null,
   "metadata": {},
   "outputs": [],
   "source": [
    "#df_item_lookup.dtypes\n",
    "#df_fetch_requests.dtypes\n",
    "#df_workbench_jobs.dtypes"
   ]
  },
  {
   "cell_type": "code",
   "execution_count": null,
   "metadata": {},
   "outputs": [],
   "source": [
    "# Create the SQLAlchemy engine (FS DB)\n",
    "engine = create_engine(f\"mssql+pyodbc:///?odbc_connect={fs_params}\")\n",
    "# Try to connect and execute a simple query\n",
    "with engine.connect() as connection:\n",
    "\n",
    "    # Write SQL Query here\n",
    "    query = text(\n",
    "                    \n",
    "\"\"\"\n",
    "SELECT DISTINCT\n",
    "SEGMENT1 as item\n",
    ",ITEM_TYPE as item_type\n",
    ",DESCRIPTION as description\n",
    "\n",
    "FROM Inventory.EBS_Item  \n",
    "\n",
    "\"\"\"\n",
    "                    )\n",
    "\n",
    "    result = connection.execute(query)\n",
    "    print(result)\n",
    "    df_item_lookup = pd.DataFrame(result.fetchall(), columns=result.keys())"
   ]
  },
  {
   "cell_type": "code",
   "execution_count": null,
   "metadata": {},
   "outputs": [],
   "source": [
    "# Create the SQLAlchemy engine (SE DB)\n",
    "engine = create_engine(f\"mssql+pyodbc:///?odbc_connect={se_params}\")\n",
    "# Try to connect and execute a simple query\n",
    "with engine.connect() as connection:\n",
    "\n",
    "    # Write SQL Query here\n",
    "    query = text(\n",
    "                    \n",
    "\"\"\"\n",
    "            SELECT DISTINCT\n",
    "            [WHSE] AS ORG\n",
    "            ,CONCAT(WHSE, RIGHT(TO_LOCATION,1)) AS Line\n",
    "            ,[SKU]\n",
    "            ,[FROM_LOCATION]\n",
    "            ,[TO_LOCATION]\n",
    "            ,[INSERT_DTTM]\n",
    "            ,[COMPLETE_DTTM]\n",
    "            ,[TRANSPORT_ORDER_TYPE]\n",
    "            ,DATEDIFF(MINUTE, INSERT_DTTM, COMPLETE_DTTM) AS Duration_in_Minutes\n",
    "        FROM [HISTORY].[LGV_TRANSPORT_ORDER_HISTORY]\n",
    "        WHERE 1=1\n",
    "            AND WHSE = 'CAR'\n",
    "            AND TRANSPORT_ORDER_TYPE LIKE '%from%Mes%'\n",
    "            AND DATEDIFF(DAY,COMPLETE_DTTM,GETDATE()) <= 180 \n",
    "\n",
    "\"\"\"\n",
    "                    )\n",
    "\n",
    "    result = connection.execute(query)\n",
    "    print(result)\n",
    "    df_fetch_requests = pd.DataFrame(result.fetchall(), columns=result.keys())\n",
    "    df_fetch_requests.Duration_in_Minutes = df_fetch_requests.Duration_in_Minutes.astype(float)"
   ]
  },
  {
   "cell_type": "code",
   "execution_count": null,
   "metadata": {},
   "outputs": [],
   "source": [
    "df_fetch_requests.head()"
   ]
  },
  {
   "cell_type": "code",
   "execution_count": null,
   "metadata": {},
   "outputs": [],
   "source": []
  },
  {
   "cell_type": "code",
   "execution_count": null,
   "metadata": {},
   "outputs": [],
   "source": [
    "df_fetch_requests = pd.merge(df_item_lookup, df_fetch_requests, left_on='item', right_on='SKU', how='inner')"
   ]
  },
  {
   "cell_type": "code",
   "execution_count": null,
   "metadata": {},
   "outputs": [],
   "source": [
    "df_fetch_requests.head()\n",
    "df_fetch_requests = df_fetch_requests[[\"Line\", \"item\", \"item_type\", \"FROM_LOCATION\", \"TO_LOCATION\", \"INSERT_DTTM\", \"COMPLETE_DTTM\", \"Duration_in_Minutes\"]]"
   ]
  },
  {
   "cell_type": "code",
   "execution_count": null,
   "metadata": {},
   "outputs": [],
   "source": [
    "df_fetch_requests.head()"
   ]
  },
  {
   "cell_type": "code",
   "execution_count": null,
   "metadata": {},
   "outputs": [],
   "source": [
    "df_fetch_requests[\"Duration_in_Minutes\"].sort_values(ascending=False)"
   ]
  },
  {
   "cell_type": "code",
   "execution_count": null,
   "metadata": {},
   "outputs": [],
   "source": [
    "sns.histplot(df_fetch_requests[\"Duration_in_Minutes\"][df_fetch_requests[\"Duration_in_Minutes\"] < 200])"
   ]
  },
  {
   "cell_type": "code",
   "execution_count": null,
   "metadata": {},
   "outputs": [],
   "source": [
    "log_minutes = np.log10(df_fetch_requests.Duration_in_Minutes)"
   ]
  },
  {
   "cell_type": "code",
   "execution_count": null,
   "metadata": {},
   "outputs": [],
   "source": [
    "sns.histplot(log_minutes)\n",
    "plt.xlabel(\"Log_10(Duration_in_Minutes)\")"
   ]
  },
  {
   "cell_type": "code",
   "execution_count": null,
   "metadata": {},
   "outputs": [],
   "source": [
    "#df_fetch_requests[\"INSERT_DTTM\"].to_datetime()\n",
    "df_fetch_requests[\"INSERT_DATE\"] = pd.to_datetime(df_fetch_requests[\"INSERT_DTTM\"]).dt.date\n",
    "df_fetch_requests[\"COMPLETE_DATE\"] = pd.to_datetime(df_fetch_requests[\"COMPLETE_DTTM\"]).dt.date"
   ]
  },
  {
   "cell_type": "code",
   "execution_count": null,
   "metadata": {},
   "outputs": [],
   "source": [
    "df_fetch_requests"
   ]
  },
  {
   "cell_type": "code",
   "execution_count": null,
   "metadata": {},
   "outputs": [],
   "source": [
    "#df_produced = pd.read_csv(\"initial_files/csv_files/lou_total_cases_produced.csv\")\n",
    "#df_produced[\"Date\"] = pd.to_datetime(df_produced[\"Date\"], format='%m/%d/%Y').dt.strftime('%Y-%m-%d')\n",
    "#df_produced.dtypes\n",
    "#df_produced.head()"
   ]
  },
  {
   "cell_type": "code",
   "execution_count": null,
   "metadata": {},
   "outputs": [],
   "source": [
    "df_produced.dtypes"
   ]
  },
  {
   "cell_type": "code",
   "execution_count": null,
   "metadata": {},
   "outputs": [],
   "source": [
    "# Create the SQLAlchemy engine (FS DB)\n",
    "engine = create_engine(f\"mssql+pyodbc:///?odbc_connect={fs_params}\")\n",
    "# Try to connect and execute a simple query\n",
    "with engine.connect() as connection:\n",
    "\n",
    "    # Write SQL Query here\n",
    "    query = text(\n",
    "                    \n",
    "\"\"\"\n",
    "    SELECT DISTINCT\n",
    "    ORG,CONCAT(ORG,RIGHT(LINE,1)) COLLATE DATABASE_DEFAULT AS Prod_Line, CONVERT(DATE, ACTUAL_START_TIME) AS Date, SUM(ACTUAL_QUANTITY) AS Total_Cases_Produced\n",
    "\n",
    "    FROM history.LMS_Workbench\n",
    "    WHERE ORG = 'CAR'\n",
    "    AND LINE IN ('LU1', 'LU2', 'LU3', 'LU4', 'LU5')\n",
    "    AND DATEDIFF(DAY,ACTUAL_START_TIME, GETDATE()) <= 180\n",
    "\n",
    "    GROUP BY ORG,CONCAT(ORG,RIGHT(LINE,1)) COLLATE DATABASE_DEFAULT, LINE, CONVERT(DATE, ACTUAL_START_TIME)\n",
    "    ORDER BY Date\n",
    "        \n",
    "\"\"\"\n",
    "                    )\n",
    "\n",
    "    result = connection.execute(query)\n",
    "    print(result)\n",
    "    df_produced = pd.DataFrame(result.fetchall(), columns=result.keys())\n",
    "    df_produced.Total_Cases_Produced = df_produced.Total_Cases_Produced.astype(int)"
   ]
  },
  {
   "cell_type": "code",
   "execution_count": null,
   "metadata": {},
   "outputs": [],
   "source": [
    "df_produced.shape"
   ]
  },
  {
   "cell_type": "code",
   "execution_count": null,
   "metadata": {},
   "outputs": [],
   "source": [
    "# Create the SQLAlchemy engine (FS DB)\n",
    "engine = create_engine(f\"mssql+pyodbc:///?odbc_connect={fs_params}\")\n",
    "# Try to connect and execute a simple query\n",
    "with engine.connect() as connection:\n",
    "\n",
    "    # Write SQL Query here\n",
    "    query = text(\n",
    "                    \n",
    "\"\"\"\n",
    "    WITH CTE AS (\n",
    "    SELECT DISTINCT ORG, TC_SHIPMENT_ID, SHIPPED_QTY, CONVERT(DATE, ACTUAL_SHIPPED_DTTM) AS SHIPPED_DATE\n",
    "    FROM history.MA_ShipmentHistory\n",
    "    WHERE ORG = 'CAR'\n",
    "    AND DATEDIFF(DAY,ACTUAL_SHIPPED_DTTM,GETDATE()) <= 180\n",
    "    )\n",
    "    ,\n",
    "    CTE2 AS (\n",
    "    SELECT ORG, SHIPPED_DATE, SUM(SHIPPED_QTY) AS Total_Cases_Shipped\n",
    "    FROM CTE\n",
    "    GROUP BY ORG, SHIPPED_DATE\n",
    "    )\n",
    "\n",
    "    SELECT DISTINCT\n",
    "    ORG, SHIPPED_DATE, CAST(Total_Cases_Shipped AS int) AS Total_Cases_Shipped FROM CTE2\n",
    "    ORDER BY SHIPPED_DATE\n",
    "\n",
    "\"\"\"\n",
    "                    )\n",
    "\n",
    "    result = connection.execute(query)\n",
    "    print(result)\n",
    "    df_shipped = pd.DataFrame(result.fetchall(), columns=result.keys())"
   ]
  },
  {
   "cell_type": "code",
   "execution_count": null,
   "metadata": {},
   "outputs": [],
   "source": [
    "df_shipped.shape"
   ]
  },
  {
   "cell_type": "code",
   "execution_count": null,
   "metadata": {},
   "outputs": [],
   "source": [
    "df_shipped.dtypes"
   ]
  },
  {
   "cell_type": "code",
   "execution_count": null,
   "metadata": {},
   "outputs": [],
   "source": [
    "# df_shipped = pd.read_csv(\"initial_files/csv_files/lou_total_cases_shipped.csv\")\n",
    "# df_shipped[\"SHIPPED_DATE\"] = pd.to_datetime(df_shipped[\"SHIPPED_DATE\"], format='%m/%d/%Y').dt.strftime('%Y-%m-%d')\n",
    "# df_shipped.dtypes"
   ]
  },
  {
   "cell_type": "code",
   "execution_count": null,
   "metadata": {},
   "outputs": [],
   "source": [
    "df_fetch_requests[\"INSERT_DATE\"] = pd.to_datetime(df_fetch_requests[\"INSERT_DATE\"])\n",
    "df_fetch_requests[\"COMPLETE_DATE\"] = pd.to_datetime(df_fetch_requests[\"COMPLETE_DATE\"])\n",
    "df_fetch_requests[\"INSERT_DTTM\"] = pd.to_datetime(df_fetch_requests[\"INSERT_DTTM\"])\n",
    "df_fetch_requests[\"COMPLETE_DTTM\"] = pd.to_datetime(df_fetch_requests[\"COMPLETE_DTTM\"])\n",
    "#df_fetch_requests.dtypes"
   ]
  },
  {
   "cell_type": "code",
   "execution_count": null,
   "metadata": {},
   "outputs": [],
   "source": [
    "df_produced[\"Date\"] = pd.to_datetime(df_produced[\"Date\"])\n",
    "df_shipped[\"SHIPPED_DATE\"] = pd.to_datetime(df_shipped[\"SHIPPED_DATE\"])"
   ]
  },
  {
   "cell_type": "code",
   "execution_count": null,
   "metadata": {},
   "outputs": [],
   "source": [
    "df_fetch_requests = pd.merge(df_fetch_requests, df_produced, left_on='INSERT_DATE', right_on='Date', how='left')\n",
    "df_fetch_requests"
   ]
  },
  {
   "cell_type": "code",
   "execution_count": null,
   "metadata": {},
   "outputs": [],
   "source": [
    "df_fetch_requests = pd.merge(df_fetch_requests, df_shipped, left_on='INSERT_DATE', right_on='SHIPPED_DATE', how='inner')\n",
    "df_fetch_requests"
   ]
  },
  {
   "cell_type": "code",
   "execution_count": null,
   "metadata": {},
   "outputs": [],
   "source": [
    "df_fetch_requests = df_fetch_requests[[\"Line\",\"item\",\"item_type\",\"FROM_LOCATION\",\"TO_LOCATION\",\"INSERT_DTTM\",\"COMPLETE_DTTM\",\"Duration_in_Minutes\",\"INSERT_DATE\",\"COMPLETE_DATE\",\"Total_Cases_Produced\",\"Total_Cases_Shipped\"]]"
   ]
  },
  {
   "cell_type": "code",
   "execution_count": null,
   "metadata": {},
   "outputs": [],
   "source": [
    "df_fetch_requests.columns = df_fetch_requests.columns.str.lower().str.replace(' ', '_')"
   ]
  },
  {
   "cell_type": "code",
   "execution_count": null,
   "metadata": {},
   "outputs": [],
   "source": [
    "df_fetch_requests = df_fetch_requests.rename(columns={\"total_cases_produced\": \"total_cases_produced_for_day\",\"total_cases_shipped\": \"total_cases_shipped_for_day\", \"test\":\"line\"})\n",
    "df_fetch_requests"
   ]
  },
  {
   "cell_type": "code",
   "execution_count": null,
   "metadata": {},
   "outputs": [],
   "source": [
    "df_fetch_requests[\"duration_in_minutes\"] = df_fetch_requests[\"duration_in_minutes\"].round(2)"
   ]
  },
  {
   "cell_type": "code",
   "execution_count": null,
   "metadata": {},
   "outputs": [],
   "source": [
    "df_fetch_requests"
   ]
  },
  {
   "cell_type": "code",
   "execution_count": null,
   "metadata": {},
   "outputs": [],
   "source": [
    "features_list = list(df_fetch_requests.columns)\n",
    "features_list"
   ]
  },
  {
   "cell_type": "code",
   "execution_count": null,
   "metadata": {},
   "outputs": [],
   "source": [
    "for v in ['CAR1', 'CAR2', 'CAR3', 'CAR4', 'CAR5']:\n",
    "    feature = f\"line_{v}\"\n",
    "    df_fetch_requests[feature] = (df_fetch_requests[\"line\"] == v).astype(int)\n",
    "    features_list.append(feature)"
   ]
  },
  {
   "cell_type": "code",
   "execution_count": null,
   "metadata": {},
   "outputs": [],
   "source": [
    "for v in ['SHRF', 'LABL']:\n",
    "    feature = f\"item_type_{v}\"\n",
    "    df_fetch_requests[feature] = (df_fetch_requests[\"item_type\"] == v).astype(int)\n",
    "    features_list.append(feature)"
   ]
  },
  {
   "cell_type": "code",
   "execution_count": null,
   "metadata": {},
   "outputs": [],
   "source": [
    "df_fetch_requests.from_location.value_counts()"
   ]
  },
  {
   "cell_type": "code",
   "execution_count": null,
   "metadata": {},
   "outputs": [],
   "source": [
    "df_fetch_requests[\"storage_location_type\"] = df_fetch_requests[\"from_location\"].str[4:7]"
   ]
  },
  {
   "cell_type": "code",
   "execution_count": null,
   "metadata": {},
   "outputs": [],
   "source": [
    "df_fetch_requests.head()"
   ]
  },
  {
   "cell_type": "code",
   "execution_count": null,
   "metadata": {},
   "outputs": [],
   "source": [
    "for v in ['RSR', 'SSR']:\n",
    "    feature = f\"storage_location_type_{v}\"\n",
    "    df_fetch_requests[feature] = (df_fetch_requests[\"storage_location_type\"] == v).astype(int)\n",
    "    features_list.append(feature)"
   ]
  },
  {
   "cell_type": "code",
   "execution_count": null,
   "metadata": {},
   "outputs": [],
   "source": [
    "df_fetch_requests.dtypes"
   ]
  },
  {
   "cell_type": "code",
   "execution_count": null,
   "metadata": {},
   "outputs": [],
   "source": [
    "numerical_matrix_df = df_fetch_requests.select_dtypes(include=['int64', 'float'])"
   ]
  },
  {
   "cell_type": "code",
   "execution_count": null,
   "metadata": {},
   "outputs": [],
   "source": [
    "numerical_matrix_df"
   ]
  },
  {
   "cell_type": "code",
   "execution_count": null,
   "metadata": {},
   "outputs": [],
   "source": [
    "# y_train_orig = df_train.duration_in_minutes.values\n",
    "# y_val_orig = df_val.duration_in_minutes.values\n",
    "# y_test_orig = df_test.duration_in_minutes.values\n",
    "\n",
    "# y_train = np.log10(df_train.duration_in_minutes.values)\n",
    "# y_val = np.log10(df_val.duration_in_minutes.values)\n",
    "# y_test = np.log10(df_test.duration_in_minutes.values)"
   ]
  },
  {
   "cell_type": "code",
   "execution_count": null,
   "metadata": {},
   "outputs": [],
   "source": [
    "# Start with your original DataFrame (before the numerical conversion)\n",
    "df_fetch_requests_enriched = df_fetch_requests.copy()\n",
    "\n",
    "# 1. Handle Rare Locations\n",
    "location_counts = df_fetch_requests_enriched['from_location'].value_counts()\n",
    "rare_locations = location_counts[location_counts < 10].index\n",
    "df_fetch_requests_enriched['location_grouped'] = df_fetch_requests_enriched['from_location'].apply(\n",
    "    lambda x: 'RARE_LOCATION' if x in rare_locations else x\n",
    ")\n",
    "\n",
    "# 2. Add Location Statistics\n",
    "location_avg = df_fetch_requests_enriched.groupby('location_grouped')['duration_in_minutes'].mean().to_dict()\n",
    "location_median = df_fetch_requests_enriched.groupby('location_grouped')['duration_in_minutes'].median().to_dict()\n",
    "location_std = df_fetch_requests_enriched.groupby('location_grouped')['duration_in_minutes'].std().fillna(0).to_dict()\n",
    "\n",
    "df_fetch_requests_enriched['location_avg_time'] = df_fetch_requests_enriched['location_grouped'].map(location_avg)\n",
    "df_fetch_requests_enriched['location_median_time'] = df_fetch_requests_enriched['location_grouped'].map(location_median)\n",
    "df_fetch_requests_enriched['location_std_time'] = df_fetch_requests_enriched['location_grouped'].map(location_std)\n",
    "\n",
    "# 3. Add Cross Features\n",
    "df_fetch_requests_enriched['rsr_with_shrf'] = ((df_fetch_requests_enriched['storage_location_type'] == 'RSR') & \n",
    "                                           (df_fetch_requests_enriched['item_type'] == 'SHRF')).astype(int)\n",
    "df_fetch_requests_enriched['ssr_with_labl'] = ((df_fetch_requests_enriched['storage_location_type'] == 'SSR') & \n",
    "                                           (df_fetch_requests_enriched['item_type'] == 'LABL')).astype(int)\n",
    "\n",
    "# Time-based features from insert_dttm\n",
    "df_fetch_requests_enriched['hour_of_day'] = df_fetch_requests_enriched['insert_dttm'].dt.hour\n",
    "df_fetch_requests_enriched['day_of_week'] = df_fetch_requests_enriched['insert_dttm'].dt.dayofweek  # 0=Monday, 6=Sunday\n",
    "\n",
    "# Create one-hot encoding for hour of day and day of week\n",
    "for hour in range(24):\n",
    "    df_fetch_requests_enriched[f'hour_{hour}'] = (df_fetch_requests_enriched['hour_of_day'] == hour).astype(int)\n",
    "\n",
    "for day in range(7):\n",
    "    df_fetch_requests_enriched[f'day_{day}'] = (df_fetch_requests_enriched['day_of_week'] == day).astype(int)\n",
    "\n",
    "# Add features for business hours vs. off-hours\n",
    "df_fetch_requests_enriched['business_hours'] = ((df_fetch_requests_enriched['hour_of_day'] >= 8) & \n",
    "                                           (df_fetch_requests_enriched['hour_of_day'] < 17) &\n",
    "                                           (df_fetch_requests_enriched['day_of_week'] < 5)).astype(int)\n",
    "\n",
    "df_fetch_requests_enriched['night_shift'] = ((df_fetch_requests_enriched['hour_of_day'] >= 19) | \n",
    "                                        (df_fetch_requests_enriched['hour_of_day'] < 7)).astype(int)\n",
    "\n",
    "df_fetch_requests_enriched['weekend'] = (df_fetch_requests_enriched['day_of_week'] >= 5).astype(int)\n",
    "\n",
    "# Calculate cases produced/shipped ratios\n",
    "# Add a small value to avoid division by zero\n",
    "epsilon = 1e-10\n",
    "df_fetch_requests_enriched['cases_ratio'] = df_fetch_requests_enriched['total_cases_produced_for_day'] / (df_fetch_requests_enriched['total_cases_shipped_for_day'] + epsilon)\n",
    "\n",
    "# Cap extreme ratios to prevent outliers\n",
    "df_fetch_requests_enriched['cases_ratio'] = df_fetch_requests_enriched['cases_ratio'].clip(0, 10)\n",
    "\n",
    "# Hour + item_type interaction features\n",
    "df_fetch_requests_enriched['morning_shrf'] = ((df_fetch_requests_enriched['hour_of_day'] < 12) & \n",
    "                                         (df_fetch_requests_enriched['item_type'] == 'SHRF')).astype(int)\n",
    "\n",
    "df_fetch_requests_enriched['evening_labl'] = ((df_fetch_requests_enriched['hour_of_day'] >= 19) & \n",
    "                                         (df_fetch_requests_enriched['item_type'] == 'LABL')).astype(int)\n",
    "\n",
    "# Update numerical_columns to include new features\n",
    "numerical_columns = [\n",
    "    'duration_in_minutes', 'total_cases_produced_for_day', 'total_cases_shipped_for_day',\n",
    "    'line_CAR1', 'line_CAR2', 'line_CAR3', 'line_CAR4', 'line_CAR5',\n",
    "    'item_type_SHRF', 'item_type_LABL', 'storage_location_type_RSR', 'storage_location_type_SSR',\n",
    "    'location_avg_time', 'location_median_time', 'location_std_time',\n",
    "    'rsr_with_shrf', 'ssr_with_labl',\n",
    "    'cases_ratio',\n",
    "    'business_hours', 'night_shift', 'weekend',\n",
    "    'morning_shrf', 'evening_labl'\n",
    "]\n",
    "\n",
    "# Add hour and day dummy variables (dropping one from each to avoid multicollinearity)\n",
    "for hour in range(1, 24):  # Skip hour_0 as the reference category\n",
    "    numerical_columns.append(f'hour_{hour}')\n",
    "\n",
    "for day in range(1, 7):  # Skip day_0 (Monday) as the reference category\n",
    "    numerical_columns.append(f'day_{day}')\n",
    "\n",
    "# Create the numerical matrix with our enhanced features\n",
    "df_numerical = df_fetch_requests_enriched[numerical_columns]\n",
    "\n",
    "# Then continue with your existing train/val/test split logic\n",
    "np.random.seed(2)\n",
    "n = len(df_numerical)\n",
    "n_val = int(0.2 * n)\n",
    "n_test = int(0.2 * n)\n",
    "n_train = n - (n_val + n_test)\n",
    "\n",
    "idx = np.arange(n)\n",
    "np.random.shuffle(idx)\n",
    "\n",
    "df_shuffled = df_numerical.iloc[idx]\n",
    "\n",
    "df_train = df_shuffled.iloc[:n_train].copy()\n",
    "df_val = df_shuffled.iloc[n_train:n_train+n_val].copy()\n",
    "df_test = df_shuffled.iloc[n_train+n_val:].copy()"
   ]
  },
  {
   "cell_type": "code",
   "execution_count": null,
   "metadata": {},
   "outputs": [],
   "source": [
    "y_train_orig = df_train.duration_in_minutes.values\n",
    "y_val_orig = df_val.duration_in_minutes.values\n",
    "y_test_orig = df_test.duration_in_minutes.values\n",
    "\n",
    "y_train = np.log10(df_train.duration_in_minutes.values)\n",
    "y_val = np.log10(df_val.duration_in_minutes.values)\n",
    "y_test = np.log10(df_test.duration_in_minutes.values)"
   ]
  },
  {
   "cell_type": "code",
   "execution_count": null,
   "metadata": {},
   "outputs": [],
   "source": [
    "def prepare_X(df):\n",
    "    df = df.copy()\n",
    "    \n",
    "    # Remove target variable if it exists\n",
    "    if 'duration_in_minutes' in df.columns:\n",
    "        df = df.drop('duration_in_minutes', axis=1)\n",
    "    \n",
    "    # Drop one category from each set of dummy variables to avoid multicollinearity\n",
    "    columns_to_drop = ['line_CAR5', 'item_type_LABL', 'storage_location_type_SSR']\n",
    "    df = df.drop([x for x in columns_to_drop if x in df.columns], axis=1)\n",
    "    \n",
    "    feature_names = list(df.columns)\n",
    "    X = df.values\n",
    "    return X, feature_names"
   ]
  },
  {
   "cell_type": "code",
   "execution_count": null,
   "metadata": {},
   "outputs": [],
   "source": [
    "X_train.shape"
   ]
  },
  {
   "cell_type": "code",
   "execution_count": null,
   "metadata": {},
   "outputs": [],
   "source": [
    "X_train = prepare_X(df_train)\n",
    "X_train"
   ]
  },
  {
   "cell_type": "code",
   "execution_count": null,
   "metadata": {},
   "outputs": [],
   "source": [
    "from sklearn.ensemble import RandomForestRegressor\n",
    "from sklearn.metrics import mean_squared_error\n",
    "import numpy as np\n",
    "\n",
    "# Prepare data\n",
    "X_train, feature_names = prepare_X(df_train)\n",
    "X_val, _ = prepare_X(df_val)\n",
    "\n",
    "# 1. Hyperparameter tuning\n",
    "from sklearn.model_selection import RandomizedSearchCV\n",
    "\n",
    "param_dist = {\n",
    "    'n_estimators': [50, 100, 200],\n",
    "    'max_depth': [None, 10, 20, 30],\n",
    "    'min_samples_split': [2, 5, 10],\n",
    "    'min_samples_leaf': [1, 2, 4]\n",
    "}\n",
    "\n",
    "rf = RandomForestRegressor(random_state=42)\n",
    "random_search = RandomizedSearchCV(rf, param_distributions=param_dist, \n",
    "                                  n_iter=10, cv=3, scoring='neg_mean_squared_error',\n",
    "                                  random_state=42)\n",
    "random_search.fit(X_train, y_train)\n",
    "\n",
    "# Get the best model\n",
    "best_rf = random_search.best_estimator_\n",
    "print(f\"Best parameters: {random_search.best_params_}\")\n",
    "\n",
    "# 2. Make predictions with the tuned model\n",
    "y_train_pred_rf = best_rf.predict(X_train)\n",
    "y_val_pred_rf = best_rf.predict(X_val)\n",
    "\n",
    "# Calculate RMSE\n",
    "train_rmse_rf = np.sqrt(mean_squared_error(y_train, y_train_pred_rf))\n",
    "val_rmse_rf = np.sqrt(mean_squared_error(y_val, y_val_pred_rf))\n",
    "\n",
    "print(f\"Tuned RF Training RMSE: {train_rmse_rf:.4f}\")\n",
    "print(f\"Tuned RF Validation RMSE: {val_rmse_rf:.4f}\")\n",
    "\n",
    "# 3. Feature importance analysis\n",
    "importances = best_rf.feature_importances_\n",
    "# Get feature names - adjust this depending on how you access column names\n",
    "#feature_names = X_train.columns if hasattr(X_train, 'columns') else [f\"feature_{i}\" for i in range(X_train.shape[1])]\n",
    "indices = np.argsort(importances)[::-1]\n",
    "\n",
    "# Print direct feature importances\n",
    "for i, (name, importance) in enumerate(zip(feature_names, importances)):\n",
    "    if i < 20:  # Just print the first 20\n",
    "        print(f\"{i+1}. {name}: {importance:.4f}\")\n",
    "\n",
    "# Print the feature ranking\n",
    "print(\"Feature ranking:\")\n",
    "for f in range(min(20, X_train.shape[1])):\n",
    "    if f < len(indices):\n",
    "        feature_idx = indices[f]\n",
    "        if feature_idx < len(feature_names):\n",
    "            feature_name = feature_names[feature_idx]\n",
    "            importance = importances[feature_idx]\n",
    "            print(f\"{f+1}. {feature_name} ({importance:.4f})\")\n",
    "\n",
    "# 4. Plot feature importances (optional)\n",
    "plt.figure(figsize=(12, 8))\n",
    "plt.title(\"Feature importances\")\n",
    "plt.bar(range(min(20, X_train.shape[1])), \n",
    "        [importances[i] for i in indices[:20]],\n",
    "        align=\"center\")\n",
    "plt.xticks(range(min(20, X_train.shape[1])), \n",
    "           [feature_names[i] for i in indices[:20]], \n",
    "           rotation=90)\n",
    "plt.tight_layout()\n",
    "plt.show()"
   ]
  },
  {
   "cell_type": "code",
   "execution_count": null,
   "metadata": {},
   "outputs": [],
   "source": [
    "sns.histplot(y_train, label='target')\n",
    "sns.histplot(y_train_pred_rf, label='prediction')\n",
    "\n",
    "plt.legend()\n",
    "plt.title('Predictions vs. actual distribution (training) - random forest')\n",
    "plt.xlabel('Log10(duration_in_minutes)')"
   ]
  },
  {
   "cell_type": "code",
   "execution_count": null,
   "metadata": {},
   "outputs": [],
   "source": [
    "sns.histplot(y_val, label='target')\n",
    "sns.histplot(y_val_pred_rf, label='prediction')\n",
    "\n",
    "plt.legend()\n",
    "plt.title('Predictions vs. actual distribution (validation) - random forest')\n",
    "plt.xlabel('Log10(duration_in_minutes)')"
   ]
  },
  {
   "cell_type": "code",
   "execution_count": null,
   "metadata": {},
   "outputs": [],
   "source": [
    "from sklearn.ensemble import RandomForestRegressor\n",
    "from sklearn.metrics import mean_squared_error\n",
    "import numpy as np\n",
    "\n",
    "# Prepare data\n",
    "X_train, feature_names = prepare_X(df_train)\n",
    "X_val, _ = prepare_X(df_val)\n",
    "X_test, _ = prepare_X(df_test)  # If you have test data\n",
    "\n",
    "# Create model with the best parameters you already found\n",
    "best_params = {'n_estimators': 200, 'max_depth': 30, 'min_samples_split': 2, 'min_samples_leaf': 1}\n",
    "rf_model = RandomForestRegressor(**best_params, random_state=42)\n",
    "\n",
    "# Train the model\n",
    "rf_model.fit(X_train, y_train)\n",
    "\n",
    "# Make predictions\n",
    "y_train_pred = rf_model.predict(X_train)\n",
    "y_val_pred = rf_model.predict(X_val)\n",
    "\n",
    "# Calculate RMSE\n",
    "train_rmse = np.sqrt(mean_squared_error(y_train, y_train_pred))\n",
    "val_rmse = np.sqrt(mean_squared_error(y_val, y_val_pred))\n",
    "\n",
    "print(f\"RF Training RMSE: {train_rmse:.4f}\")\n",
    "print(f\"RF Validation RMSE: {val_rmse:.4f}\")\n",
    "\n",
    "# Feature importance analysis\n",
    "importances = rf_model.feature_importances_\n",
    "indices = np.argsort(importances)[::-1]\n",
    "\n",
    "# Print feature ranking\n",
    "print(\"Feature ranking:\")\n",
    "for f in range(min(10, X_train.shape[1])):\n",
    "    feature_idx = indices[f]\n",
    "    feature_name = feature_names[feature_idx]\n",
    "    importance = importances[feature_idx]\n",
    "    print(f\"{f+1}. {feature_name} ({importance:.4f})\")"
   ]
  },
  {
   "cell_type": "code",
   "execution_count": null,
   "metadata": {},
   "outputs": [],
   "source": [
    "def predict_retrieval_times_monte_carlo(\n",
    "    item_type, \n",
    "    production_line, \n",
    "    cases_produced, \n",
    "    cases_shipped,\n",
    "    day_of_week,\n",
    "    hour_of_day,\n",
    "    n_simulations=1000):\n",
    "    \n",
    "    # Create a base record with the known features\n",
    "    base_record = {\n",
    "        'total_cases_produced_for_day': cases_produced,\n",
    "        'total_cases_shipped_for_day': cases_shipped,\n",
    "        'cases_ratio': cases_produced / (cases_shipped + 1e-10),\n",
    "        'line_CAR1': 1 if production_line == 'CAR1' else 0,\n",
    "        'line_CAR2': 1 if production_line == 'CAR2' else 0,\n",
    "        'line_CAR3': 1 if production_line == 'CAR3' else 0,\n",
    "        'line_CAR4': 1 if production_line == 'CAR4' else 0,\n",
    "        'item_type_SHRF': 1 if item_type == 'SHRF' else 0,\n",
    "        'storage_location_type_RSR': 1,  # Default to RSR\n",
    "        'business_hours': 1 if (hour_of_day >= 8 and hour_of_day < 17 and day_of_week < 5) else 0,\n",
    "        'night_shift': 1 if (hour_of_day >= 22 or hour_of_day < 6) else 0,\n",
    "        'weekend': 1 if day_of_week >= 5 else 0,\n",
    "        'morning_shrf': 1 if (hour_of_day < 12 and item_type == 'SHRF') else 0,\n",
    "        'evening_labl': 1 if (hour_of_day >= 17 and item_type == 'LABL') else 0,\n",
    "        'rsr_with_shrf': 1 if item_type == 'SHRF' else 0,\n",
    "        'ssr_with_labl': 0\n",
    "    }\n",
    "    \n",
    "    # Add hour and day dummy variables\n",
    "    for h in range(1, 24):\n",
    "        base_record[f'hour_{h}'] = 1 if hour_of_day == h else 0\n",
    "    \n",
    "    for d in range(1, 7):\n",
    "        base_record[f'day_{d}'] = 1 if day_of_week == d else 0\n",
    "    \n",
    "    # Filter for relevant records in df_numerical\n",
    "    filter_mask = (\n",
    "        (df_numerical['item_type_SHRF'] == base_record['item_type_SHRF']) &\n",
    "        (df_numerical[f'line_{production_line}'] == 1)\n",
    "    )\n",
    "    \n",
    "    matching_records = df_numerical[filter_mask]\n",
    "    print(f\"Found {len(matching_records)} matching records\")\n",
    "    \n",
    "    if len(matching_records) > 0:\n",
    "        # Sample location statistics from matching records\n",
    "        predictions = []\n",
    "        for _ in range(n_simulations):\n",
    "            random_idx = np.random.randint(0, len(matching_records))\n",
    "            selected_record = matching_records.iloc[random_idx]\n",
    "            \n",
    "            # Copy the base record and add location statistics\n",
    "            simulation_record = base_record.copy()\n",
    "            simulation_record['location_avg_time'] = selected_record['location_avg_time']\n",
    "            simulation_record['location_median_time'] = selected_record['location_median_time']\n",
    "            simulation_record['location_std_time'] = selected_record['location_std_time']\n",
    "            \n",
    "            # Ensure all required features are present\n",
    "            simulation_df = pd.DataFrame([simulation_record])\n",
    "            \n",
    "            # Make sure all features are in the right order\n",
    "            for feature in feature_names:\n",
    "                if feature not in simulation_df.columns:\n",
    "                    simulation_df[feature] = 0\n",
    "            \n",
    "            simulation_df = simulation_df[feature_names]\n",
    "            \n",
    "            # Make prediction and convert from log10 back to minutes\n",
    "            log_prediction = rf_model.predict(simulation_df)[0]\n",
    "            prediction_minutes = 10**log_prediction\n",
    "            predictions.append(prediction_minutes)\n",
    "        \n",
    "        # Calculate statistics\n",
    "        predictions = np.array(predictions)\n",
    "        result = {\n",
    "            'min': predictions.min(),\n",
    "            '25th_percentile': np.percentile(predictions, 25),\n",
    "            'median': np.median(predictions),\n",
    "            'mean': predictions.mean(),\n",
    "            '75th_percentile': np.percentile(predictions, 75),\n",
    "            'max': predictions.max(),\n",
    "            'std_dev': predictions.std(),\n",
    "            'raw_predictions': predictions\n",
    "        }\n",
    "        return result\n",
    "    else:\n",
    "        return {\"error\": \"No matching records found for this combination\"}"
   ]
  },
  {
   "cell_type": "code",
   "execution_count": null,
   "metadata": {},
   "outputs": [],
   "source": [
    "# Example usage\n",
    "result = predict_retrieval_times_monte_carlo(\n",
    "    item_type='SHRF',\n",
    "    production_line='CAR2',\n",
    "    cases_produced=85000,\n",
    "    cases_shipped=170000,\n",
    "    day_of_week=2,  # Wednesday\n",
    "    hour_of_day=10,  # 10 AM\n",
    "    n_simulations=1000\n",
    ")\n",
    "\n",
    "# Print results\n",
    "print(f\"Predicted retrieval time (minutes):\")\n",
    "print(f\"Minimum: {result['min']:.2f}\")\n",
    "print(f\"25th percentile: {result['25th_percentile']:.2f}\")\n",
    "print(f\"Median: {result['median']:.2f}\")\n",
    "print(f\"Mean: {result['mean']:.2f}\")\n",
    "print(f\"75th percentile: {result['75th_percentile']:.2f}\")\n",
    "print(f\"Maximum: {result['max']:.2f}\")\n",
    "print(f\"Standard deviation: {result['std_dev']:.2f}\")\n",
    "\n",
    "# Visualize the distribution\n",
    "plt.figure(figsize=(10, 6))\n",
    "sns.histplot(result['raw_predictions'], kde=True)\n",
    "plt.title(f\"Distribution of Predicted Retrieval Times\\nSHRF to CAR2, Wednesday 10 AM\")\n",
    "plt.xlabel(\"Duration (minutes)\")\n",
    "plt.ylabel(\"Frequency\")\n",
    "plt.axvline(result['median'], color='red', linestyle='--', label=f\"Median: {result['median']:.2f} min\")\n",
    "plt.legend()\n",
    "plt.show()"
   ]
  },
  {
   "cell_type": "code",
   "execution_count": null,
   "metadata": {},
   "outputs": [],
   "source": [
    "import warnings\n",
    "# Only filter sklearn validation warnings about feature names\n",
    "warnings.filterwarnings(\"ignore\", message=\"X has feature names, but RandomForestRegressor was fitted without feature names\")\n",
    "\n",
    "# Or filter warnings from a specific module\n",
    "warnings.filterwarnings(\"ignore\", module=\"sklearn.utils.validation\")"
   ]
  },
  {
   "cell_type": "code",
   "execution_count": null,
   "metadata": {},
   "outputs": [],
   "source": [
    "import numpy as np\n",
    "import pandas as pd\n",
    "import matplotlib.pyplot as plt\n",
    "import seaborn as sns\n",
    "from datetime import datetime, timedelta\n",
    "from tqdm.notebook import tqdm\n",
    "\n",
    "def forecast_retrieval_risks(day_of_week, shipping_forecast, production_forecast):\n",
    "    \"\"\"\n",
    "    Generate a daily retrieval risk forecast dashboard\n",
    "    \n",
    "    Parameters:\n",
    "    -----------\n",
    "    day_of_week: int\n",
    "        Day of week (0=Monday, 1=Tuesday, etc.)\n",
    "    shipping_forecast: float\n",
    "        Forecasted cases to be shipped\n",
    "    production_forecast: float\n",
    "        Forecasted cases to be produced\n",
    "    \"\"\"\n",
    "    \n",
    "    # Production lines and materials to check\n",
    "    lines = ['CAR1', 'CAR2', 'CAR3', 'CAR4', 'CAR5']\n",
    "    materials = ['SHRF', 'LABL']\n",
    "    \n",
    "    # Time periods to check\n",
    "    hours = [9, 13, 17, 21]  # 9AM, 1PM, 5PM, 9PM\n",
    "    \n",
    "    # Create a results table\n",
    "    results = []\n",
    "    total_combinations = len(lines) * len(materials) * len(hours)\n",
    "    with tqdm(total=total_combinations) as pbar:\n",
    "        for line in lines:\n",
    "            for material in materials:\n",
    "                for hour in hours:\n",
    "                    # Run Monte Carlo simulation\n",
    "                    sim_result = predict_retrieval_times_monte_carlo(\n",
    "                        item_type=material,\n",
    "                        production_line=line,\n",
    "                        cases_produced=production_forecast,\n",
    "                        cases_shipped=shipping_forecast,\n",
    "                        day_of_week=day_of_week,\n",
    "                        hour_of_day=hour,\n",
    "                        n_simulations=200\n",
    "                    )\n",
    "                    \n",
    "                    # Calculate risk metrics\n",
    "                    if 'raw_predictions' in sim_result:\n",
    "                        predictions = sim_result['raw_predictions']\n",
    "                        risk_30min = (predictions > 30).mean() * 100  # % chance > 30 mins\n",
    "                        risk_45min = (predictions > 45).mean() * 100  # % chance > 45 mins\n",
    "                        median_time = sim_result['median']\n",
    "                        max_time = sim_result['max']\n",
    "                        \n",
    "                        results.append({\n",
    "                            'Line': line,\n",
    "                            'Material': material,\n",
    "                            'Time': f\"{hour:02d}:00\",\n",
    "                            'Median (min)': round(median_time, 1),\n",
    "                            'Max (min)': round(max_time, 1),\n",
    "                            'Risk >30min (%)': round(risk_30min, 1),\n",
    "                            'Risk >45min (%)': round(risk_45min, 1),\n",
    "                            'Risk Level': 'High' if risk_45min > 20 else 'Medium' if risk_45min > 5 else 'Low'\n",
    "                        })\n",
    "\n",
    "                        # Update progress bar\n",
    "                        pbar.update(1)\n",
    "    \n",
    "    # Convert to dataframe\n",
    "    risk_df = pd.DataFrame(results)\n",
    "    \n",
    "    # Create a heatmap of risk levels\n",
    "    plt.figure(figsize=(15, 10))\n",
    "    \n",
    "    # Define a pivot table for the heatmap\n",
    "    heatmap_data = risk_df.pivot_table(\n",
    "        index=['Material', 'Line'],\n",
    "        columns='Time',\n",
    "        values='Risk >45min (%)',\n",
    "        aggfunc='mean'\n",
    "    )\n",
    "    \n",
    "    # Plot the heatmap\n",
    "    ax = sns.heatmap(heatmap_data, annot=True, cmap=\"YlOrRd\", fmt=\".1f\", \n",
    "                    vmin=0, vmax=50, cbar_kws={'label': 'Risk of >45min retrieval (%)'})\n",
    "    \n",
    "    # Day name for title\n",
    "    days = ['Monday', 'Tuesday', 'Wednesday', 'Thursday', 'Friday', 'Saturday', 'Sunday']\n",
    "    day_name = days[day_of_week]\n",
    "    \n",
    "    plt.title(f\"Retrieval Time Risk Forecast for {day_name}\\nShipping: {shipping_forecast} cases, Production: {production_forecast} cases\")\n",
    "    plt.tight_layout()\n",
    "    \n",
    "    # Also return the tabular data\n",
    "    return risk_df, plt.gcf()\n",
    "\n",
    "# Example usage\n",
    "tomorrow = datetime.now() + timedelta(days=1)\n",
    "tomorrow_dow = tomorrow.weekday()  # 0=Monday, 1=Tuesday, etc.\n",
    "\n",
    "# Sample forecast for tomorrow\n",
    "shipping_forecast = 185000\n",
    "production_forecast = 95000\n",
    "\n",
    "# Generate the risk dashboard\n",
    "risk_table, risk_plot = forecast_retrieval_risks(\n",
    "    day_of_week=tomorrow_dow,\n",
    "    shipping_forecast=shipping_forecast,\n",
    "    production_forecast=production_forecast\n",
    ")\n",
    "\n",
    "# Display the tabular data, sorted by risk level\n",
    "print(\"Retrieval Risk Forecast:\")\n",
    "for risk_level in ['High', 'Medium', 'Low']:\n",
    "    level_risks = risk_table[risk_table['Risk Level'] == risk_level].sort_values(by='Risk >45min (%)', ascending=False)\n",
    "    if len(level_risks) > 0:\n",
    "        print(f\"\\n{risk_level} Risk Retrievals:\")\n",
    "        print(level_risks[['Line', 'Material', 'Time', 'Median (min)', 'Risk >45min (%)']].to_string(index=False))\n",
    "\n",
    "# Display the plot\n",
    "risk_plot.show()"
   ]
  },
  {
   "cell_type": "code",
   "execution_count": null,
   "metadata": {},
   "outputs": [],
   "source": []
  }
 ],
 "metadata": {
  "kernelspec": {
   "display_name": "Python 3",
   "language": "python",
   "name": "python3"
  },
  "language_info": {
   "codemirror_mode": {
    "name": "ipython",
    "version": 3
   },
   "file_extension": ".py",
   "mimetype": "text/x-python",
   "name": "python",
   "nbconvert_exporter": "python",
   "pygments_lexer": "ipython3",
   "version": "3.12.5"
  }
 },
 "nbformat": 4,
 "nbformat_minor": 2
}
